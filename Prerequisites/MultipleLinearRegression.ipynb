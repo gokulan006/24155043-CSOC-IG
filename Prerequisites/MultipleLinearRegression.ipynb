{
  "cells": [
    {
      "cell_type": "markdown",
      "metadata": {
        "id": "DsR3ouGEyOp2"
      },
      "source": [
        "# Importing Necessary Libraries"
      ]
    },
    {
      "cell_type": "code",
      "execution_count": null,
      "metadata": {
        "id": "Asm3Ve88wq4P"
      },
      "outputs": [],
      "source": [
        "import pandas as pd\n",
        "import numpy as np\n",
        "import matplotlib.pyplot as plt\n",
        "import time"
      ]
    },
    {
      "cell_type": "markdown",
      "source": [
        "# DataPreprocessing"
      ],
      "metadata": {
        "id": "rOU4VXFzdpdm"
      }
    },
    {
      "cell_type": "markdown",
      "source": [
        "## Loading the Dataset\n",
        " California Housing Prize Prediction Dataset"
      ],
      "metadata": {
        "id": "f2lJg-AIb-85"
      }
    },
    {
      "cell_type": "code",
      "execution_count": null,
      "metadata": {
        "colab": {
          "base_uri": "https://localhost:8080/",
          "height": 226
        },
        "id": "_Xs2Fwnfl8DK",
        "outputId": "44323b10-657d-4d19-a2a6-c5151709b16e"
      },
      "outputs": [
        {
          "output_type": "execute_result",
          "data": {
            "text/plain": [
              "   longitude  latitude  housing_median_age  total_rooms  total_bedrooms  \\\n",
              "0    -122.23     37.88                41.0        880.0           129.0   \n",
              "1    -122.22     37.86                21.0       7099.0          1106.0   \n",
              "2    -122.24     37.85                52.0       1467.0           190.0   \n",
              "3    -122.25     37.85                52.0       1274.0           235.0   \n",
              "4    -122.25     37.85                52.0       1627.0           280.0   \n",
              "\n",
              "   population  households  median_income  median_house_value ocean_proximity  \n",
              "0       322.0       126.0         8.3252            452600.0        NEAR BAY  \n",
              "1      2401.0      1138.0         8.3014            358500.0        NEAR BAY  \n",
              "2       496.0       177.0         7.2574            352100.0        NEAR BAY  \n",
              "3       558.0       219.0         5.6431            341300.0        NEAR BAY  \n",
              "4       565.0       259.0         3.8462            342200.0        NEAR BAY  "
            ],
            "text/html": [
              "\n",
              "  <div id=\"df-8514c554-5376-47e9-b822-05cc4a73ee23\" class=\"colab-df-container\">\n",
              "    <div>\n",
              "<style scoped>\n",
              "    .dataframe tbody tr th:only-of-type {\n",
              "        vertical-align: middle;\n",
              "    }\n",
              "\n",
              "    .dataframe tbody tr th {\n",
              "        vertical-align: top;\n",
              "    }\n",
              "\n",
              "    .dataframe thead th {\n",
              "        text-align: right;\n",
              "    }\n",
              "</style>\n",
              "<table border=\"1\" class=\"dataframe\">\n",
              "  <thead>\n",
              "    <tr style=\"text-align: right;\">\n",
              "      <th></th>\n",
              "      <th>longitude</th>\n",
              "      <th>latitude</th>\n",
              "      <th>housing_median_age</th>\n",
              "      <th>total_rooms</th>\n",
              "      <th>total_bedrooms</th>\n",
              "      <th>population</th>\n",
              "      <th>households</th>\n",
              "      <th>median_income</th>\n",
              "      <th>median_house_value</th>\n",
              "      <th>ocean_proximity</th>\n",
              "    </tr>\n",
              "  </thead>\n",
              "  <tbody>\n",
              "    <tr>\n",
              "      <th>0</th>\n",
              "      <td>-122.23</td>\n",
              "      <td>37.88</td>\n",
              "      <td>41.0</td>\n",
              "      <td>880.0</td>\n",
              "      <td>129.0</td>\n",
              "      <td>322.0</td>\n",
              "      <td>126.0</td>\n",
              "      <td>8.3252</td>\n",
              "      <td>452600.0</td>\n",
              "      <td>NEAR BAY</td>\n",
              "    </tr>\n",
              "    <tr>\n",
              "      <th>1</th>\n",
              "      <td>-122.22</td>\n",
              "      <td>37.86</td>\n",
              "      <td>21.0</td>\n",
              "      <td>7099.0</td>\n",
              "      <td>1106.0</td>\n",
              "      <td>2401.0</td>\n",
              "      <td>1138.0</td>\n",
              "      <td>8.3014</td>\n",
              "      <td>358500.0</td>\n",
              "      <td>NEAR BAY</td>\n",
              "    </tr>\n",
              "    <tr>\n",
              "      <th>2</th>\n",
              "      <td>-122.24</td>\n",
              "      <td>37.85</td>\n",
              "      <td>52.0</td>\n",
              "      <td>1467.0</td>\n",
              "      <td>190.0</td>\n",
              "      <td>496.0</td>\n",
              "      <td>177.0</td>\n",
              "      <td>7.2574</td>\n",
              "      <td>352100.0</td>\n",
              "      <td>NEAR BAY</td>\n",
              "    </tr>\n",
              "    <tr>\n",
              "      <th>3</th>\n",
              "      <td>-122.25</td>\n",
              "      <td>37.85</td>\n",
              "      <td>52.0</td>\n",
              "      <td>1274.0</td>\n",
              "      <td>235.0</td>\n",
              "      <td>558.0</td>\n",
              "      <td>219.0</td>\n",
              "      <td>5.6431</td>\n",
              "      <td>341300.0</td>\n",
              "      <td>NEAR BAY</td>\n",
              "    </tr>\n",
              "    <tr>\n",
              "      <th>4</th>\n",
              "      <td>-122.25</td>\n",
              "      <td>37.85</td>\n",
              "      <td>52.0</td>\n",
              "      <td>1627.0</td>\n",
              "      <td>280.0</td>\n",
              "      <td>565.0</td>\n",
              "      <td>259.0</td>\n",
              "      <td>3.8462</td>\n",
              "      <td>342200.0</td>\n",
              "      <td>NEAR BAY</td>\n",
              "    </tr>\n",
              "  </tbody>\n",
              "</table>\n",
              "</div>\n",
              "    <div class=\"colab-df-buttons\">\n",
              "\n",
              "  <div class=\"colab-df-container\">\n",
              "    <button class=\"colab-df-convert\" onclick=\"convertToInteractive('df-8514c554-5376-47e9-b822-05cc4a73ee23')\"\n",
              "            title=\"Convert this dataframe to an interactive table.\"\n",
              "            style=\"display:none;\">\n",
              "\n",
              "  <svg xmlns=\"http://www.w3.org/2000/svg\" height=\"24px\" viewBox=\"0 -960 960 960\">\n",
              "    <path d=\"M120-120v-720h720v720H120Zm60-500h600v-160H180v160Zm220 220h160v-160H400v160Zm0 220h160v-160H400v160ZM180-400h160v-160H180v160Zm440 0h160v-160H620v160ZM180-180h160v-160H180v160Zm440 0h160v-160H620v160Z\"/>\n",
              "  </svg>\n",
              "    </button>\n",
              "\n",
              "  <style>\n",
              "    .colab-df-container {\n",
              "      display:flex;\n",
              "      gap: 12px;\n",
              "    }\n",
              "\n",
              "    .colab-df-convert {\n",
              "      background-color: #E8F0FE;\n",
              "      border: none;\n",
              "      border-radius: 50%;\n",
              "      cursor: pointer;\n",
              "      display: none;\n",
              "      fill: #1967D2;\n",
              "      height: 32px;\n",
              "      padding: 0 0 0 0;\n",
              "      width: 32px;\n",
              "    }\n",
              "\n",
              "    .colab-df-convert:hover {\n",
              "      background-color: #E2EBFA;\n",
              "      box-shadow: 0px 1px 2px rgba(60, 64, 67, 0.3), 0px 1px 3px 1px rgba(60, 64, 67, 0.15);\n",
              "      fill: #174EA6;\n",
              "    }\n",
              "\n",
              "    .colab-df-buttons div {\n",
              "      margin-bottom: 4px;\n",
              "    }\n",
              "\n",
              "    [theme=dark] .colab-df-convert {\n",
              "      background-color: #3B4455;\n",
              "      fill: #D2E3FC;\n",
              "    }\n",
              "\n",
              "    [theme=dark] .colab-df-convert:hover {\n",
              "      background-color: #434B5C;\n",
              "      box-shadow: 0px 1px 3px 1px rgba(0, 0, 0, 0.15);\n",
              "      filter: drop-shadow(0px 1px 2px rgba(0, 0, 0, 0.3));\n",
              "      fill: #FFFFFF;\n",
              "    }\n",
              "  </style>\n",
              "\n",
              "    <script>\n",
              "      const buttonEl =\n",
              "        document.querySelector('#df-8514c554-5376-47e9-b822-05cc4a73ee23 button.colab-df-convert');\n",
              "      buttonEl.style.display =\n",
              "        google.colab.kernel.accessAllowed ? 'block' : 'none';\n",
              "\n",
              "      async function convertToInteractive(key) {\n",
              "        const element = document.querySelector('#df-8514c554-5376-47e9-b822-05cc4a73ee23');\n",
              "        const dataTable =\n",
              "          await google.colab.kernel.invokeFunction('convertToInteractive',\n",
              "                                                    [key], {});\n",
              "        if (!dataTable) return;\n",
              "\n",
              "        const docLinkHtml = 'Like what you see? Visit the ' +\n",
              "          '<a target=\"_blank\" href=https://colab.research.google.com/notebooks/data_table.ipynb>data table notebook</a>'\n",
              "          + ' to learn more about interactive tables.';\n",
              "        element.innerHTML = '';\n",
              "        dataTable['output_type'] = 'display_data';\n",
              "        await google.colab.output.renderOutput(dataTable, element);\n",
              "        const docLink = document.createElement('div');\n",
              "        docLink.innerHTML = docLinkHtml;\n",
              "        element.appendChild(docLink);\n",
              "      }\n",
              "    </script>\n",
              "  </div>\n",
              "\n",
              "\n",
              "    <div id=\"df-2fbf18de-72f8-4033-ad16-d321e917acd8\">\n",
              "      <button class=\"colab-df-quickchart\" onclick=\"quickchart('df-2fbf18de-72f8-4033-ad16-d321e917acd8')\"\n",
              "                title=\"Suggest charts\"\n",
              "                style=\"display:none;\">\n",
              "\n",
              "<svg xmlns=\"http://www.w3.org/2000/svg\" height=\"24px\"viewBox=\"0 0 24 24\"\n",
              "     width=\"24px\">\n",
              "    <g>\n",
              "        <path d=\"M19 3H5c-1.1 0-2 .9-2 2v14c0 1.1.9 2 2 2h14c1.1 0 2-.9 2-2V5c0-1.1-.9-2-2-2zM9 17H7v-7h2v7zm4 0h-2V7h2v10zm4 0h-2v-4h2v4z\"/>\n",
              "    </g>\n",
              "</svg>\n",
              "      </button>\n",
              "\n",
              "<style>\n",
              "  .colab-df-quickchart {\n",
              "      --bg-color: #E8F0FE;\n",
              "      --fill-color: #1967D2;\n",
              "      --hover-bg-color: #E2EBFA;\n",
              "      --hover-fill-color: #174EA6;\n",
              "      --disabled-fill-color: #AAA;\n",
              "      --disabled-bg-color: #DDD;\n",
              "  }\n",
              "\n",
              "  [theme=dark] .colab-df-quickchart {\n",
              "      --bg-color: #3B4455;\n",
              "      --fill-color: #D2E3FC;\n",
              "      --hover-bg-color: #434B5C;\n",
              "      --hover-fill-color: #FFFFFF;\n",
              "      --disabled-bg-color: #3B4455;\n",
              "      --disabled-fill-color: #666;\n",
              "  }\n",
              "\n",
              "  .colab-df-quickchart {\n",
              "    background-color: var(--bg-color);\n",
              "    border: none;\n",
              "    border-radius: 50%;\n",
              "    cursor: pointer;\n",
              "    display: none;\n",
              "    fill: var(--fill-color);\n",
              "    height: 32px;\n",
              "    padding: 0;\n",
              "    width: 32px;\n",
              "  }\n",
              "\n",
              "  .colab-df-quickchart:hover {\n",
              "    background-color: var(--hover-bg-color);\n",
              "    box-shadow: 0 1px 2px rgba(60, 64, 67, 0.3), 0 1px 3px 1px rgba(60, 64, 67, 0.15);\n",
              "    fill: var(--button-hover-fill-color);\n",
              "  }\n",
              "\n",
              "  .colab-df-quickchart-complete:disabled,\n",
              "  .colab-df-quickchart-complete:disabled:hover {\n",
              "    background-color: var(--disabled-bg-color);\n",
              "    fill: var(--disabled-fill-color);\n",
              "    box-shadow: none;\n",
              "  }\n",
              "\n",
              "  .colab-df-spinner {\n",
              "    border: 2px solid var(--fill-color);\n",
              "    border-color: transparent;\n",
              "    border-bottom-color: var(--fill-color);\n",
              "    animation:\n",
              "      spin 1s steps(1) infinite;\n",
              "  }\n",
              "\n",
              "  @keyframes spin {\n",
              "    0% {\n",
              "      border-color: transparent;\n",
              "      border-bottom-color: var(--fill-color);\n",
              "      border-left-color: var(--fill-color);\n",
              "    }\n",
              "    20% {\n",
              "      border-color: transparent;\n",
              "      border-left-color: var(--fill-color);\n",
              "      border-top-color: var(--fill-color);\n",
              "    }\n",
              "    30% {\n",
              "      border-color: transparent;\n",
              "      border-left-color: var(--fill-color);\n",
              "      border-top-color: var(--fill-color);\n",
              "      border-right-color: var(--fill-color);\n",
              "    }\n",
              "    40% {\n",
              "      border-color: transparent;\n",
              "      border-right-color: var(--fill-color);\n",
              "      border-top-color: var(--fill-color);\n",
              "    }\n",
              "    60% {\n",
              "      border-color: transparent;\n",
              "      border-right-color: var(--fill-color);\n",
              "    }\n",
              "    80% {\n",
              "      border-color: transparent;\n",
              "      border-right-color: var(--fill-color);\n",
              "      border-bottom-color: var(--fill-color);\n",
              "    }\n",
              "    90% {\n",
              "      border-color: transparent;\n",
              "      border-bottom-color: var(--fill-color);\n",
              "    }\n",
              "  }\n",
              "</style>\n",
              "\n",
              "      <script>\n",
              "        async function quickchart(key) {\n",
              "          const quickchartButtonEl =\n",
              "            document.querySelector('#' + key + ' button');\n",
              "          quickchartButtonEl.disabled = true;  // To prevent multiple clicks.\n",
              "          quickchartButtonEl.classList.add('colab-df-spinner');\n",
              "          try {\n",
              "            const charts = await google.colab.kernel.invokeFunction(\n",
              "                'suggestCharts', [key], {});\n",
              "          } catch (error) {\n",
              "            console.error('Error during call to suggestCharts:', error);\n",
              "          }\n",
              "          quickchartButtonEl.classList.remove('colab-df-spinner');\n",
              "          quickchartButtonEl.classList.add('colab-df-quickchart-complete');\n",
              "        }\n",
              "        (() => {\n",
              "          let quickchartButtonEl =\n",
              "            document.querySelector('#df-2fbf18de-72f8-4033-ad16-d321e917acd8 button');\n",
              "          quickchartButtonEl.style.display =\n",
              "            google.colab.kernel.accessAllowed ? 'block' : 'none';\n",
              "        })();\n",
              "      </script>\n",
              "    </div>\n",
              "\n",
              "    </div>\n",
              "  </div>\n"
            ],
            "application/vnd.google.colaboratory.intrinsic+json": {
              "type": "dataframe",
              "variable_name": "dataset",
              "summary": "{\n  \"name\": \"dataset\",\n  \"rows\": 20640,\n  \"fields\": [\n    {\n      \"column\": \"longitude\",\n      \"properties\": {\n        \"dtype\": \"number\",\n        \"std\": 2.003531723502581,\n        \"min\": -124.35,\n        \"max\": -114.31,\n        \"num_unique_values\": 844,\n        \"samples\": [\n          -118.63,\n          -119.86,\n          -121.26\n        ],\n        \"semantic_type\": \"\",\n        \"description\": \"\"\n      }\n    },\n    {\n      \"column\": \"latitude\",\n      \"properties\": {\n        \"dtype\": \"number\",\n        \"std\": 2.1359523974571117,\n        \"min\": 32.54,\n        \"max\": 41.95,\n        \"num_unique_values\": 862,\n        \"samples\": [\n          33.7,\n          34.41,\n          38.24\n        ],\n        \"semantic_type\": \"\",\n        \"description\": \"\"\n      }\n    },\n    {\n      \"column\": \"housing_median_age\",\n      \"properties\": {\n        \"dtype\": \"number\",\n        \"std\": 12.585557612111637,\n        \"min\": 1.0,\n        \"max\": 52.0,\n        \"num_unique_values\": 52,\n        \"samples\": [\n          35.0,\n          25.0,\n          7.0\n        ],\n        \"semantic_type\": \"\",\n        \"description\": \"\"\n      }\n    },\n    {\n      \"column\": \"total_rooms\",\n      \"properties\": {\n        \"dtype\": \"number\",\n        \"std\": 2181.615251582787,\n        \"min\": 2.0,\n        \"max\": 39320.0,\n        \"num_unique_values\": 5926,\n        \"samples\": [\n          699.0,\n          1544.0,\n          3966.0\n        ],\n        \"semantic_type\": \"\",\n        \"description\": \"\"\n      }\n    },\n    {\n      \"column\": \"total_bedrooms\",\n      \"properties\": {\n        \"dtype\": \"number\",\n        \"std\": 421.3850700740322,\n        \"min\": 1.0,\n        \"max\": 6445.0,\n        \"num_unique_values\": 1923,\n        \"samples\": [\n          1538.0,\n          1298.0,\n          1578.0\n        ],\n        \"semantic_type\": \"\",\n        \"description\": \"\"\n      }\n    },\n    {\n      \"column\": \"population\",\n      \"properties\": {\n        \"dtype\": \"number\",\n        \"std\": 1132.4621217653375,\n        \"min\": 3.0,\n        \"max\": 35682.0,\n        \"num_unique_values\": 3888,\n        \"samples\": [\n          4169.0,\n          636.0,\n          3367.0\n        ],\n        \"semantic_type\": \"\",\n        \"description\": \"\"\n      }\n    },\n    {\n      \"column\": \"households\",\n      \"properties\": {\n        \"dtype\": \"number\",\n        \"std\": 382.3297528316099,\n        \"min\": 1.0,\n        \"max\": 6082.0,\n        \"num_unique_values\": 1815,\n        \"samples\": [\n          21.0,\n          750.0,\n          1447.0\n        ],\n        \"semantic_type\": \"\",\n        \"description\": \"\"\n      }\n    },\n    {\n      \"column\": \"median_income\",\n      \"properties\": {\n        \"dtype\": \"number\",\n        \"std\": 1.8998217179452732,\n        \"min\": 0.4999,\n        \"max\": 15.0001,\n        \"num_unique_values\": 12928,\n        \"samples\": [\n          5.0286,\n          2.0433,\n          6.1228\n        ],\n        \"semantic_type\": \"\",\n        \"description\": \"\"\n      }\n    },\n    {\n      \"column\": \"median_house_value\",\n      \"properties\": {\n        \"dtype\": \"number\",\n        \"std\": 115395.6158744132,\n        \"min\": 14999.0,\n        \"max\": 500001.0,\n        \"num_unique_values\": 3842,\n        \"samples\": [\n          194300.0,\n          379000.0,\n          230100.0\n        ],\n        \"semantic_type\": \"\",\n        \"description\": \"\"\n      }\n    },\n    {\n      \"column\": \"ocean_proximity\",\n      \"properties\": {\n        \"dtype\": \"category\",\n        \"num_unique_values\": 5,\n        \"samples\": [\n          \"<1H OCEAN\",\n          \"ISLAND\",\n          \"INLAND\"\n        ],\n        \"semantic_type\": \"\",\n        \"description\": \"\"\n      }\n    }\n  ]\n}"
            }
          },
          "metadata": {},
          "execution_count": 34
        }
      ],
      "source": [
        "# loading the csv file\n",
        "dataset=pd.read_csv('/content/housing.csv')\n",
        "dataset.head()"
      ]
    },
    {
      "cell_type": "code",
      "execution_count": null,
      "metadata": {
        "colab": {
          "base_uri": "https://localhost:8080/",
          "height": 320
        },
        "id": "35uQcTAgnNnR",
        "outputId": "6c92a389-0f81-43ae-b87c-5ae0d8e62511"
      },
      "outputs": [
        {
          "output_type": "execute_result",
          "data": {
            "text/plain": [
              "          longitude      latitude  housing_median_age   total_rooms  \\\n",
              "count  20640.000000  20640.000000        20640.000000  20640.000000   \n",
              "mean    -119.569704     35.631861           28.639486   2635.763081   \n",
              "std        2.003532      2.135952           12.585558   2181.615252   \n",
              "min     -124.350000     32.540000            1.000000      2.000000   \n",
              "25%     -121.800000     33.930000           18.000000   1447.750000   \n",
              "50%     -118.490000     34.260000           29.000000   2127.000000   \n",
              "75%     -118.010000     37.710000           37.000000   3148.000000   \n",
              "max     -114.310000     41.950000           52.000000  39320.000000   \n",
              "\n",
              "       total_bedrooms    population    households  median_income  \\\n",
              "count    20433.000000  20640.000000  20640.000000   20640.000000   \n",
              "mean       537.870553   1425.476744    499.539680       3.870671   \n",
              "std        421.385070   1132.462122    382.329753       1.899822   \n",
              "min          1.000000      3.000000      1.000000       0.499900   \n",
              "25%        296.000000    787.000000    280.000000       2.563400   \n",
              "50%        435.000000   1166.000000    409.000000       3.534800   \n",
              "75%        647.000000   1725.000000    605.000000       4.743250   \n",
              "max       6445.000000  35682.000000   6082.000000      15.000100   \n",
              "\n",
              "       median_house_value  \n",
              "count        20640.000000  \n",
              "mean        206855.816909  \n",
              "std         115395.615874  \n",
              "min          14999.000000  \n",
              "25%         119600.000000  \n",
              "50%         179700.000000  \n",
              "75%         264725.000000  \n",
              "max         500001.000000  "
            ],
            "text/html": [
              "\n",
              "  <div id=\"df-1017479f-a671-4994-a9ef-80e4decdeffa\" class=\"colab-df-container\">\n",
              "    <div>\n",
              "<style scoped>\n",
              "    .dataframe tbody tr th:only-of-type {\n",
              "        vertical-align: middle;\n",
              "    }\n",
              "\n",
              "    .dataframe tbody tr th {\n",
              "        vertical-align: top;\n",
              "    }\n",
              "\n",
              "    .dataframe thead th {\n",
              "        text-align: right;\n",
              "    }\n",
              "</style>\n",
              "<table border=\"1\" class=\"dataframe\">\n",
              "  <thead>\n",
              "    <tr style=\"text-align: right;\">\n",
              "      <th></th>\n",
              "      <th>longitude</th>\n",
              "      <th>latitude</th>\n",
              "      <th>housing_median_age</th>\n",
              "      <th>total_rooms</th>\n",
              "      <th>total_bedrooms</th>\n",
              "      <th>population</th>\n",
              "      <th>households</th>\n",
              "      <th>median_income</th>\n",
              "      <th>median_house_value</th>\n",
              "    </tr>\n",
              "  </thead>\n",
              "  <tbody>\n",
              "    <tr>\n",
              "      <th>count</th>\n",
              "      <td>20640.000000</td>\n",
              "      <td>20640.000000</td>\n",
              "      <td>20640.000000</td>\n",
              "      <td>20640.000000</td>\n",
              "      <td>20433.000000</td>\n",
              "      <td>20640.000000</td>\n",
              "      <td>20640.000000</td>\n",
              "      <td>20640.000000</td>\n",
              "      <td>20640.000000</td>\n",
              "    </tr>\n",
              "    <tr>\n",
              "      <th>mean</th>\n",
              "      <td>-119.569704</td>\n",
              "      <td>35.631861</td>\n",
              "      <td>28.639486</td>\n",
              "      <td>2635.763081</td>\n",
              "      <td>537.870553</td>\n",
              "      <td>1425.476744</td>\n",
              "      <td>499.539680</td>\n",
              "      <td>3.870671</td>\n",
              "      <td>206855.816909</td>\n",
              "    </tr>\n",
              "    <tr>\n",
              "      <th>std</th>\n",
              "      <td>2.003532</td>\n",
              "      <td>2.135952</td>\n",
              "      <td>12.585558</td>\n",
              "      <td>2181.615252</td>\n",
              "      <td>421.385070</td>\n",
              "      <td>1132.462122</td>\n",
              "      <td>382.329753</td>\n",
              "      <td>1.899822</td>\n",
              "      <td>115395.615874</td>\n",
              "    </tr>\n",
              "    <tr>\n",
              "      <th>min</th>\n",
              "      <td>-124.350000</td>\n",
              "      <td>32.540000</td>\n",
              "      <td>1.000000</td>\n",
              "      <td>2.000000</td>\n",
              "      <td>1.000000</td>\n",
              "      <td>3.000000</td>\n",
              "      <td>1.000000</td>\n",
              "      <td>0.499900</td>\n",
              "      <td>14999.000000</td>\n",
              "    </tr>\n",
              "    <tr>\n",
              "      <th>25%</th>\n",
              "      <td>-121.800000</td>\n",
              "      <td>33.930000</td>\n",
              "      <td>18.000000</td>\n",
              "      <td>1447.750000</td>\n",
              "      <td>296.000000</td>\n",
              "      <td>787.000000</td>\n",
              "      <td>280.000000</td>\n",
              "      <td>2.563400</td>\n",
              "      <td>119600.000000</td>\n",
              "    </tr>\n",
              "    <tr>\n",
              "      <th>50%</th>\n",
              "      <td>-118.490000</td>\n",
              "      <td>34.260000</td>\n",
              "      <td>29.000000</td>\n",
              "      <td>2127.000000</td>\n",
              "      <td>435.000000</td>\n",
              "      <td>1166.000000</td>\n",
              "      <td>409.000000</td>\n",
              "      <td>3.534800</td>\n",
              "      <td>179700.000000</td>\n",
              "    </tr>\n",
              "    <tr>\n",
              "      <th>75%</th>\n",
              "      <td>-118.010000</td>\n",
              "      <td>37.710000</td>\n",
              "      <td>37.000000</td>\n",
              "      <td>3148.000000</td>\n",
              "      <td>647.000000</td>\n",
              "      <td>1725.000000</td>\n",
              "      <td>605.000000</td>\n",
              "      <td>4.743250</td>\n",
              "      <td>264725.000000</td>\n",
              "    </tr>\n",
              "    <tr>\n",
              "      <th>max</th>\n",
              "      <td>-114.310000</td>\n",
              "      <td>41.950000</td>\n",
              "      <td>52.000000</td>\n",
              "      <td>39320.000000</td>\n",
              "      <td>6445.000000</td>\n",
              "      <td>35682.000000</td>\n",
              "      <td>6082.000000</td>\n",
              "      <td>15.000100</td>\n",
              "      <td>500001.000000</td>\n",
              "    </tr>\n",
              "  </tbody>\n",
              "</table>\n",
              "</div>\n",
              "    <div class=\"colab-df-buttons\">\n",
              "\n",
              "  <div class=\"colab-df-container\">\n",
              "    <button class=\"colab-df-convert\" onclick=\"convertToInteractive('df-1017479f-a671-4994-a9ef-80e4decdeffa')\"\n",
              "            title=\"Convert this dataframe to an interactive table.\"\n",
              "            style=\"display:none;\">\n",
              "\n",
              "  <svg xmlns=\"http://www.w3.org/2000/svg\" height=\"24px\" viewBox=\"0 -960 960 960\">\n",
              "    <path d=\"M120-120v-720h720v720H120Zm60-500h600v-160H180v160Zm220 220h160v-160H400v160Zm0 220h160v-160H400v160ZM180-400h160v-160H180v160Zm440 0h160v-160H620v160ZM180-180h160v-160H180v160Zm440 0h160v-160H620v160Z\"/>\n",
              "  </svg>\n",
              "    </button>\n",
              "\n",
              "  <style>\n",
              "    .colab-df-container {\n",
              "      display:flex;\n",
              "      gap: 12px;\n",
              "    }\n",
              "\n",
              "    .colab-df-convert {\n",
              "      background-color: #E8F0FE;\n",
              "      border: none;\n",
              "      border-radius: 50%;\n",
              "      cursor: pointer;\n",
              "      display: none;\n",
              "      fill: #1967D2;\n",
              "      height: 32px;\n",
              "      padding: 0 0 0 0;\n",
              "      width: 32px;\n",
              "    }\n",
              "\n",
              "    .colab-df-convert:hover {\n",
              "      background-color: #E2EBFA;\n",
              "      box-shadow: 0px 1px 2px rgba(60, 64, 67, 0.3), 0px 1px 3px 1px rgba(60, 64, 67, 0.15);\n",
              "      fill: #174EA6;\n",
              "    }\n",
              "\n",
              "    .colab-df-buttons div {\n",
              "      margin-bottom: 4px;\n",
              "    }\n",
              "\n",
              "    [theme=dark] .colab-df-convert {\n",
              "      background-color: #3B4455;\n",
              "      fill: #D2E3FC;\n",
              "    }\n",
              "\n",
              "    [theme=dark] .colab-df-convert:hover {\n",
              "      background-color: #434B5C;\n",
              "      box-shadow: 0px 1px 3px 1px rgba(0, 0, 0, 0.15);\n",
              "      filter: drop-shadow(0px 1px 2px rgba(0, 0, 0, 0.3));\n",
              "      fill: #FFFFFF;\n",
              "    }\n",
              "  </style>\n",
              "\n",
              "    <script>\n",
              "      const buttonEl =\n",
              "        document.querySelector('#df-1017479f-a671-4994-a9ef-80e4decdeffa button.colab-df-convert');\n",
              "      buttonEl.style.display =\n",
              "        google.colab.kernel.accessAllowed ? 'block' : 'none';\n",
              "\n",
              "      async function convertToInteractive(key) {\n",
              "        const element = document.querySelector('#df-1017479f-a671-4994-a9ef-80e4decdeffa');\n",
              "        const dataTable =\n",
              "          await google.colab.kernel.invokeFunction('convertToInteractive',\n",
              "                                                    [key], {});\n",
              "        if (!dataTable) return;\n",
              "\n",
              "        const docLinkHtml = 'Like what you see? Visit the ' +\n",
              "          '<a target=\"_blank\" href=https://colab.research.google.com/notebooks/data_table.ipynb>data table notebook</a>'\n",
              "          + ' to learn more about interactive tables.';\n",
              "        element.innerHTML = '';\n",
              "        dataTable['output_type'] = 'display_data';\n",
              "        await google.colab.output.renderOutput(dataTable, element);\n",
              "        const docLink = document.createElement('div');\n",
              "        docLink.innerHTML = docLinkHtml;\n",
              "        element.appendChild(docLink);\n",
              "      }\n",
              "    </script>\n",
              "  </div>\n",
              "\n",
              "\n",
              "    <div id=\"df-67e4b803-adb4-4287-8bc1-30d316f2a812\">\n",
              "      <button class=\"colab-df-quickchart\" onclick=\"quickchart('df-67e4b803-adb4-4287-8bc1-30d316f2a812')\"\n",
              "                title=\"Suggest charts\"\n",
              "                style=\"display:none;\">\n",
              "\n",
              "<svg xmlns=\"http://www.w3.org/2000/svg\" height=\"24px\"viewBox=\"0 0 24 24\"\n",
              "     width=\"24px\">\n",
              "    <g>\n",
              "        <path d=\"M19 3H5c-1.1 0-2 .9-2 2v14c0 1.1.9 2 2 2h14c1.1 0 2-.9 2-2V5c0-1.1-.9-2-2-2zM9 17H7v-7h2v7zm4 0h-2V7h2v10zm4 0h-2v-4h2v4z\"/>\n",
              "    </g>\n",
              "</svg>\n",
              "      </button>\n",
              "\n",
              "<style>\n",
              "  .colab-df-quickchart {\n",
              "      --bg-color: #E8F0FE;\n",
              "      --fill-color: #1967D2;\n",
              "      --hover-bg-color: #E2EBFA;\n",
              "      --hover-fill-color: #174EA6;\n",
              "      --disabled-fill-color: #AAA;\n",
              "      --disabled-bg-color: #DDD;\n",
              "  }\n",
              "\n",
              "  [theme=dark] .colab-df-quickchart {\n",
              "      --bg-color: #3B4455;\n",
              "      --fill-color: #D2E3FC;\n",
              "      --hover-bg-color: #434B5C;\n",
              "      --hover-fill-color: #FFFFFF;\n",
              "      --disabled-bg-color: #3B4455;\n",
              "      --disabled-fill-color: #666;\n",
              "  }\n",
              "\n",
              "  .colab-df-quickchart {\n",
              "    background-color: var(--bg-color);\n",
              "    border: none;\n",
              "    border-radius: 50%;\n",
              "    cursor: pointer;\n",
              "    display: none;\n",
              "    fill: var(--fill-color);\n",
              "    height: 32px;\n",
              "    padding: 0;\n",
              "    width: 32px;\n",
              "  }\n",
              "\n",
              "  .colab-df-quickchart:hover {\n",
              "    background-color: var(--hover-bg-color);\n",
              "    box-shadow: 0 1px 2px rgba(60, 64, 67, 0.3), 0 1px 3px 1px rgba(60, 64, 67, 0.15);\n",
              "    fill: var(--button-hover-fill-color);\n",
              "  }\n",
              "\n",
              "  .colab-df-quickchart-complete:disabled,\n",
              "  .colab-df-quickchart-complete:disabled:hover {\n",
              "    background-color: var(--disabled-bg-color);\n",
              "    fill: var(--disabled-fill-color);\n",
              "    box-shadow: none;\n",
              "  }\n",
              "\n",
              "  .colab-df-spinner {\n",
              "    border: 2px solid var(--fill-color);\n",
              "    border-color: transparent;\n",
              "    border-bottom-color: var(--fill-color);\n",
              "    animation:\n",
              "      spin 1s steps(1) infinite;\n",
              "  }\n",
              "\n",
              "  @keyframes spin {\n",
              "    0% {\n",
              "      border-color: transparent;\n",
              "      border-bottom-color: var(--fill-color);\n",
              "      border-left-color: var(--fill-color);\n",
              "    }\n",
              "    20% {\n",
              "      border-color: transparent;\n",
              "      border-left-color: var(--fill-color);\n",
              "      border-top-color: var(--fill-color);\n",
              "    }\n",
              "    30% {\n",
              "      border-color: transparent;\n",
              "      border-left-color: var(--fill-color);\n",
              "      border-top-color: var(--fill-color);\n",
              "      border-right-color: var(--fill-color);\n",
              "    }\n",
              "    40% {\n",
              "      border-color: transparent;\n",
              "      border-right-color: var(--fill-color);\n",
              "      border-top-color: var(--fill-color);\n",
              "    }\n",
              "    60% {\n",
              "      border-color: transparent;\n",
              "      border-right-color: var(--fill-color);\n",
              "    }\n",
              "    80% {\n",
              "      border-color: transparent;\n",
              "      border-right-color: var(--fill-color);\n",
              "      border-bottom-color: var(--fill-color);\n",
              "    }\n",
              "    90% {\n",
              "      border-color: transparent;\n",
              "      border-bottom-color: var(--fill-color);\n",
              "    }\n",
              "  }\n",
              "</style>\n",
              "\n",
              "      <script>\n",
              "        async function quickchart(key) {\n",
              "          const quickchartButtonEl =\n",
              "            document.querySelector('#' + key + ' button');\n",
              "          quickchartButtonEl.disabled = true;  // To prevent multiple clicks.\n",
              "          quickchartButtonEl.classList.add('colab-df-spinner');\n",
              "          try {\n",
              "            const charts = await google.colab.kernel.invokeFunction(\n",
              "                'suggestCharts', [key], {});\n",
              "          } catch (error) {\n",
              "            console.error('Error during call to suggestCharts:', error);\n",
              "          }\n",
              "          quickchartButtonEl.classList.remove('colab-df-spinner');\n",
              "          quickchartButtonEl.classList.add('colab-df-quickchart-complete');\n",
              "        }\n",
              "        (() => {\n",
              "          let quickchartButtonEl =\n",
              "            document.querySelector('#df-67e4b803-adb4-4287-8bc1-30d316f2a812 button');\n",
              "          quickchartButtonEl.style.display =\n",
              "            google.colab.kernel.accessAllowed ? 'block' : 'none';\n",
              "        })();\n",
              "      </script>\n",
              "    </div>\n",
              "\n",
              "    </div>\n",
              "  </div>\n"
            ],
            "application/vnd.google.colaboratory.intrinsic+json": {
              "type": "dataframe",
              "summary": "{\n  \"name\": \"dataset\",\n  \"rows\": 8,\n  \"fields\": [\n    {\n      \"column\": \"longitude\",\n      \"properties\": {\n        \"dtype\": \"number\",\n        \"std\": 7333.554670164394,\n        \"min\": -124.35,\n        \"max\": 20640.0,\n        \"num_unique_values\": 8,\n        \"samples\": [\n          -119.56970445736432,\n          -118.49,\n          20640.0\n        ],\n        \"semantic_type\": \"\",\n        \"description\": \"\"\n      }\n    },\n    {\n      \"column\": \"latitude\",\n      \"properties\": {\n        \"dtype\": \"number\",\n        \"std\": 7286.333552413666,\n        \"min\": 2.1359523974571117,\n        \"max\": 20640.0,\n        \"num_unique_values\": 8,\n        \"samples\": [\n          35.63186143410853,\n          34.26,\n          20640.0\n        ],\n        \"semantic_type\": \"\",\n        \"description\": \"\"\n      }\n    },\n    {\n      \"column\": \"housing_median_age\",\n      \"properties\": {\n        \"dtype\": \"number\",\n        \"std\": 7288.35672120143,\n        \"min\": 1.0,\n        \"max\": 20640.0,\n        \"num_unique_values\": 8,\n        \"samples\": [\n          28.639486434108527,\n          29.0,\n          20640.0\n        ],\n        \"semantic_type\": \"\",\n        \"description\": \"\"\n      }\n    },\n    {\n      \"column\": \"total_rooms\",\n      \"properties\": {\n        \"dtype\": \"number\",\n        \"std\": 13944.990983306392,\n        \"min\": 2.0,\n        \"max\": 39320.0,\n        \"num_unique_values\": 8,\n        \"samples\": [\n          2635.7630813953488,\n          2127.0,\n          20640.0\n        ],\n        \"semantic_type\": \"\",\n        \"description\": \"\"\n      }\n    },\n    {\n      \"column\": \"total_bedrooms\",\n      \"properties\": {\n        \"dtype\": \"number\",\n        \"std\": 7106.427031043755,\n        \"min\": 1.0,\n        \"max\": 20433.0,\n        \"num_unique_values\": 8,\n        \"samples\": [\n          537.8705525375618,\n          435.0,\n          20433.0\n        ],\n        \"semantic_type\": \"\",\n        \"description\": \"\"\n      }\n    },\n    {\n      \"column\": \"population\",\n      \"properties\": {\n        \"dtype\": \"number\",\n        \"std\": 13192.258841737372,\n        \"min\": 3.0,\n        \"max\": 35682.0,\n        \"num_unique_values\": 8,\n        \"samples\": [\n          1425.4767441860465,\n          1166.0,\n          20640.0\n        ],\n        \"semantic_type\": \"\",\n        \"description\": \"\"\n      }\n    },\n    {\n      \"column\": \"households\",\n      \"properties\": {\n        \"dtype\": \"number\",\n        \"std\": 7167.532601135343,\n        \"min\": 1.0,\n        \"max\": 20640.0,\n        \"num_unique_values\": 8,\n        \"samples\": [\n          499.5396802325581,\n          409.0,\n          20640.0\n        ],\n        \"semantic_type\": \"\",\n        \"description\": \"\"\n      }\n    },\n    {\n      \"column\": \"median_income\",\n      \"properties\": {\n        \"dtype\": \"number\",\n        \"std\": 7295.721435853639,\n        \"min\": 0.4999,\n        \"max\": 20640.0,\n        \"num_unique_values\": 8,\n        \"samples\": [\n          3.8706710029069766,\n          3.5347999999999997,\n          20640.0\n        ],\n        \"semantic_type\": \"\",\n        \"description\": \"\"\n      }\n    },\n    {\n      \"column\": \"median_house_value\",\n      \"properties\": {\n        \"dtype\": \"number\",\n        \"std\": 156160.28379826449,\n        \"min\": 14999.0,\n        \"max\": 500001.0,\n        \"num_unique_values\": 8,\n        \"samples\": [\n          206855.81690891474,\n          179700.0,\n          20640.0\n        ],\n        \"semantic_type\": \"\",\n        \"description\": \"\"\n      }\n    }\n  ]\n}"
            }
          },
          "metadata": {},
          "execution_count": 35
        }
      ],
      "source": [
        "dataset.describe()"
      ]
    },
    {
      "cell_type": "code",
      "execution_count": null,
      "metadata": {
        "colab": {
          "base_uri": "https://localhost:8080/"
        },
        "id": "yYyE5uK_nJul",
        "outputId": "24773b05-935c-4c8c-8426-31ae5c19cee4"
      },
      "outputs": [
        {
          "output_type": "stream",
          "name": "stdout",
          "text": [
            "<class 'pandas.core.frame.DataFrame'>\n",
            "RangeIndex: 20640 entries, 0 to 20639\n",
            "Data columns (total 10 columns):\n",
            " #   Column              Non-Null Count  Dtype  \n",
            "---  ------              --------------  -----  \n",
            " 0   longitude           20640 non-null  float64\n",
            " 1   latitude            20640 non-null  float64\n",
            " 2   housing_median_age  20640 non-null  float64\n",
            " 3   total_rooms         20640 non-null  float64\n",
            " 4   total_bedrooms      20433 non-null  float64\n",
            " 5   population          20640 non-null  float64\n",
            " 6   households          20640 non-null  float64\n",
            " 7   median_income       20640 non-null  float64\n",
            " 8   median_house_value  20640 non-null  float64\n",
            " 9   ocean_proximity     20640 non-null  object \n",
            "dtypes: float64(9), object(1)\n",
            "memory usage: 1.6+ MB\n"
          ]
        }
      ],
      "source": [
        "dataset.info()"
      ]
    },
    {
      "cell_type": "markdown",
      "source": [
        "## Label Encoding"
      ],
      "metadata": {
        "id": "byTWcOi7d4QW"
      }
    },
    {
      "cell_type": "code",
      "execution_count": null,
      "metadata": {
        "colab": {
          "base_uri": "https://localhost:8080/",
          "height": 272
        },
        "id": "cpeyUD5BmJaK",
        "outputId": "4d1d7ffb-bde2-4ab3-a1ee-9008739ec20a"
      },
      "outputs": [
        {
          "output_type": "execute_result",
          "data": {
            "text/plain": [
              "ocean_proximity\n",
              "<1H OCEAN     9136\n",
              "INLAND        6551\n",
              "NEAR OCEAN    2658\n",
              "NEAR BAY      2290\n",
              "ISLAND           5\n",
              "Name: count, dtype: int64"
            ],
            "text/html": [
              "<div>\n",
              "<style scoped>\n",
              "    .dataframe tbody tr th:only-of-type {\n",
              "        vertical-align: middle;\n",
              "    }\n",
              "\n",
              "    .dataframe tbody tr th {\n",
              "        vertical-align: top;\n",
              "    }\n",
              "\n",
              "    .dataframe thead th {\n",
              "        text-align: right;\n",
              "    }\n",
              "</style>\n",
              "<table border=\"1\" class=\"dataframe\">\n",
              "  <thead>\n",
              "    <tr style=\"text-align: right;\">\n",
              "      <th></th>\n",
              "      <th>count</th>\n",
              "    </tr>\n",
              "    <tr>\n",
              "      <th>ocean_proximity</th>\n",
              "      <th></th>\n",
              "    </tr>\n",
              "  </thead>\n",
              "  <tbody>\n",
              "    <tr>\n",
              "      <th>&lt;1H OCEAN</th>\n",
              "      <td>9136</td>\n",
              "    </tr>\n",
              "    <tr>\n",
              "      <th>INLAND</th>\n",
              "      <td>6551</td>\n",
              "    </tr>\n",
              "    <tr>\n",
              "      <th>NEAR OCEAN</th>\n",
              "      <td>2658</td>\n",
              "    </tr>\n",
              "    <tr>\n",
              "      <th>NEAR BAY</th>\n",
              "      <td>2290</td>\n",
              "    </tr>\n",
              "    <tr>\n",
              "      <th>ISLAND</th>\n",
              "      <td>5</td>\n",
              "    </tr>\n",
              "  </tbody>\n",
              "</table>\n",
              "</div><br><label><b>dtype:</b> int64</label>"
            ]
          },
          "metadata": {},
          "execution_count": 37
        }
      ],
      "source": [
        "dataset['ocean_proximity'].value_counts()\n",
        "# The column 'ocean_proximity' contains the object datatype.\n",
        "# In Data preprocessing this column should be converted to numerical values\n",
        "# In order to do that we will label encode the particular column"
      ]
    },
    {
      "cell_type": "code",
      "source": [
        "from sklearn.preprocessing import LabelEncoder\n",
        "le=LabelEncoder()\n",
        "dataset['ocean_proximity']=le.fit_transform(dataset['ocean_proximity'])\n",
        "dataset['ocean_proximity'].value_counts()"
      ],
      "metadata": {
        "colab": {
          "base_uri": "https://localhost:8080/",
          "height": 272
        },
        "id": "NDQxPntQA55Y",
        "outputId": "6bbdb474-c231-46ed-8a68-14488ac19974"
      },
      "execution_count": null,
      "outputs": [
        {
          "output_type": "execute_result",
          "data": {
            "text/plain": [
              "ocean_proximity\n",
              "0    9136\n",
              "1    6551\n",
              "4    2658\n",
              "3    2290\n",
              "2       5\n",
              "Name: count, dtype: int64"
            ],
            "text/html": [
              "<div>\n",
              "<style scoped>\n",
              "    .dataframe tbody tr th:only-of-type {\n",
              "        vertical-align: middle;\n",
              "    }\n",
              "\n",
              "    .dataframe tbody tr th {\n",
              "        vertical-align: top;\n",
              "    }\n",
              "\n",
              "    .dataframe thead th {\n",
              "        text-align: right;\n",
              "    }\n",
              "</style>\n",
              "<table border=\"1\" class=\"dataframe\">\n",
              "  <thead>\n",
              "    <tr style=\"text-align: right;\">\n",
              "      <th></th>\n",
              "      <th>count</th>\n",
              "    </tr>\n",
              "    <tr>\n",
              "      <th>ocean_proximity</th>\n",
              "      <th></th>\n",
              "    </tr>\n",
              "  </thead>\n",
              "  <tbody>\n",
              "    <tr>\n",
              "      <th>0</th>\n",
              "      <td>9136</td>\n",
              "    </tr>\n",
              "    <tr>\n",
              "      <th>1</th>\n",
              "      <td>6551</td>\n",
              "    </tr>\n",
              "    <tr>\n",
              "      <th>4</th>\n",
              "      <td>2658</td>\n",
              "    </tr>\n",
              "    <tr>\n",
              "      <th>3</th>\n",
              "      <td>2290</td>\n",
              "    </tr>\n",
              "    <tr>\n",
              "      <th>2</th>\n",
              "      <td>5</td>\n",
              "    </tr>\n",
              "  </tbody>\n",
              "</table>\n",
              "</div><br><label><b>dtype:</b> int64</label>"
            ]
          },
          "metadata": {},
          "execution_count": 38
        }
      ]
    },
    {
      "cell_type": "markdown",
      "source": [
        "## Taking Care of Missing Values\n",
        "The Column 'total_bedrooms' contains 7 missing values in order to overcome the missing values. It can be taken care by various methods\n",
        "(like deleting the row, filling with mean or mode or median value of the particular column)\n",
        "\n",
        "Here I have filled with the mean value of the particular column in place of the missing value."
      ],
      "metadata": {
        "id": "qnpCdaBhje8_"
      }
    },
    {
      "cell_type": "code",
      "source": [
        "from sklearn.impute import SimpleImputer\n",
        "imputer=SimpleImputer(strategy='mean')\n",
        "dataset=imputer.fit_transform(dataset)"
      ],
      "metadata": {
        "id": "Wu23bZjwkrhz"
      },
      "execution_count": null,
      "outputs": []
    },
    {
      "cell_type": "markdown",
      "metadata": {
        "id": "GMzi1fvOyhCJ"
      },
      "source": [
        "## Feature Scaling\n",
        "The dataset values in each feature ranges between a large values in order to decrease the range of values we need to do Scaling.\n",
        "\n"
      ]
    },
    {
      "cell_type": "code",
      "source": [
        "from sklearn.preprocessing import StandardScaler\n",
        "scaler=StandardScaler()\n",
        "dataset=scaler.fit_transform(dataset)"
      ],
      "metadata": {
        "id": "60w19SteUGaB"
      },
      "execution_count": null,
      "outputs": []
    },
    {
      "cell_type": "markdown",
      "metadata": {
        "id": "YiMG9AzNz_3i"
      },
      "source": [
        "## Spliting the Data into Train and Validation dataset\n",
        "\n",
        "split ratio:0.8"
      ]
    },
    {
      "cell_type": "code",
      "source": [
        "X=np.delete(dataset,-2,axis=1)\n",
        "y=dataset[:,-2]"
      ],
      "metadata": {
        "id": "MshRQskFSuMg"
      },
      "execution_count": null,
      "outputs": []
    },
    {
      "cell_type": "code",
      "source": [
        "X,y"
      ],
      "metadata": {
        "colab": {
          "base_uri": "https://localhost:8080/"
        },
        "id": "MpdnQl7STSHO",
        "outputId": "154f257d-9d1b-40f2-f924-7faf33e212ef"
      },
      "execution_count": null,
      "outputs": [
        {
          "output_type": "execute_result",
          "data": {
            "text/plain": [
              "(array([[-1.32783522,  1.05254828,  0.98214266, ..., -0.97703285,\n",
              "          2.34476576,  1.2910888 ],\n",
              "        [-1.32284391,  1.04318455, -0.60701891, ...,  1.66996103,\n",
              "          2.33223796,  1.2910888 ],\n",
              "        [-1.33282653,  1.03850269,  1.85618152, ..., -0.84363692,\n",
              "          1.7826994 ,  1.2910888 ],\n",
              "        ...,\n",
              "        [-0.8237132 ,  1.77823747, -0.92485123, ..., -0.17404163,\n",
              "         -1.14259331, -0.11673923],\n",
              "        [-0.87362627,  1.77823747, -0.84539315, ..., -0.39375258,\n",
              "         -1.05458292, -0.11673923],\n",
              "        [-0.83369581,  1.75014627, -1.00430931, ...,  0.07967221,\n",
              "         -0.78012947, -0.11673923]]),\n",
              " array([ 2.12963148,  1.31415614,  1.25869341, ..., -0.99274649,\n",
              "        -1.05860847, -1.01787803]))"
            ]
          },
          "metadata": {},
          "execution_count": 42
        }
      ]
    },
    {
      "cell_type": "markdown",
      "source": [
        "## Splitting the Dataset\n",
        "training dataset: 80%\n",
        "\n",
        "validation dataset: 20%\n"
      ],
      "metadata": {
        "id": "5WbAbeUogf4B"
      }
    },
    {
      "cell_type": "code",
      "execution_count": null,
      "metadata": {
        "id": "8Gl2kiw7-iSu"
      },
      "outputs": [],
      "source": [
        "from sklearn.model_selection import train_test_split\n",
        "X_train, X_val, y_train, y_val = train_test_split(X,y, test_size=0.2, random_state=42)"
      ]
    },
    {
      "cell_type": "code",
      "execution_count": null,
      "metadata": {
        "colab": {
          "base_uri": "https://localhost:8080/"
        },
        "id": "cEX6cPchEo3t",
        "outputId": "3676d885-e088-4f6d-f7ff-7029b88eae7b"
      },
      "outputs": [
        {
          "output_type": "stream",
          "name": "stdout",
          "text": [
            "(16512, 9)\n",
            "(16512,)\n",
            "(4128, 9)\n",
            "(4128,)\n"
          ]
        }
      ],
      "source": [
        "print(X_train.shape)\n",
        "print(y_train.shape)\n",
        "print(X_val.shape)\n",
        "print(y_val.shape)"
      ]
    },
    {
      "cell_type": "markdown",
      "metadata": {
        "id": "u6Np-SXrLvSO"
      },
      "source": [
        "# Part 1:\n",
        "\n",
        "Implementing a multiple variable regression model with gradient descent optimization by complete python code without using any Python module in the model implementation"
      ]
    },
    {
      "cell_type": "markdown",
      "source": [
        "## Regression Metrics\n",
        "1.MAE (Mean Absolute Error)\n",
        "\n",
        "2.MSE(Mean squared Error)\n",
        "\n",
        "3.R-Squared Error"
      ],
      "metadata": {
        "id": "S0qzycn5lHWy"
      }
    },
    {
      "cell_type": "code",
      "execution_count": null,
      "metadata": {
        "id": "d3WLKJMkcHzw"
      },
      "outputs": [],
      "source": [
        "def metrics(weights, bias, X, y):\n",
        "    mse = 0\n",
        "    mae = 0\n",
        "    ss_res = 0   # residual sum of squares\n",
        "    ss_tot = 0   # total sum of squares\n",
        "    n = len(X)\n",
        "    y_mean = sum(y) / n\n",
        "\n",
        "    for i in range(n):\n",
        "        y_pred = 0\n",
        "        for j in range(len(weights)):\n",
        "            y_pred += weights[j] * X[i][j]\n",
        "        y_pred += bias\n",
        "\n",
        "        error = y_pred-y[i]\n",
        "        mse += error**2\n",
        "        mae += abs(error)\n",
        "        ss_res += error**2\n",
        "        ss_tot += (y[i] - y_mean)**2\n",
        "\n",
        "    cost=mse/(2*n)\n",
        "    mse /= n\n",
        "    mae /= n\n",
        "    r2score = 1 - (ss_res / ss_tot) if ss_tot != 0 else 0\n",
        "\n",
        "    return float(mae), float(mse), float(r2score), float(cost)"
      ]
    },
    {
      "cell_type": "code",
      "execution_count": null,
      "metadata": {
        "id": "Wnzt64xtclFz"
      },
      "outputs": [],
      "source": [
        "def gradient_descent(weights, bias, X, y, learning_rate):\n",
        "    weights_deriv = [0.0] *len(weights)\n",
        "    bias_deriv = 0.0\n",
        "    n = len(X)\n",
        "    factor=1/n\n",
        "\n",
        "    for i in range(n):\n",
        "        y_pred = 0\n",
        "        for j in range(len(weights)):\n",
        "            y_pred += weights[j] * X[i][j]\n",
        "        y_pred += bias\n",
        "        error = y_pred - y[i]\n",
        "\n",
        "        for j in range(len(weights)):\n",
        "            weights_deriv[j] += factor * error * X[i][j]\n",
        "        bias_deriv += factor * error\n",
        "\n",
        "    for i in range(len(weights)):\n",
        "        weights[i] -= learning_rate * weights_deriv[i]\n",
        "    bias-= learning_rate * bias_deriv\n",
        "\n",
        "    return weights, bias"
      ]
    },
    {
      "cell_type": "code",
      "execution_count": null,
      "metadata": {
        "colab": {
          "base_uri": "https://localhost:8080/"
        },
        "id": "oXJpBfTrdHO6",
        "outputId": "1948b48f-c1b8-4465-8808-69ec79702ec7"
      },
      "outputs": [
        {
          "output_type": "stream",
          "name": "stdout",
          "text": [
            "Epoch is 100.\n",
            "    Training:\n",
            "    cost: 0.26510100648853857 mse: 0.5302020129770771, mae: 0.5603900665040722, r2score: 0.4718715167128973.\n",
            "    Validation:\n",
            "    mse: 0.527782924905081, mae: 0.5583029999818988, r2score: 0.4637021542855898.\n",
            "Epoch is 200.\n",
            "    Training:\n",
            "    cost: 0.22549754023973553 mse: 0.45099508047947107, mae: 0.5047543387745412, r2score: 0.5507686843997976.\n",
            "    Validation:\n",
            "    mse: 0.45429279939722594, mae: 0.5058779379432014, r2score: 0.5383779236811845.\n",
            "Epoch is 300.\n",
            "    Training:\n",
            "    cost: 0.21486234603477103 mse: 0.42972469206954206, mae: 0.4873020611721124, r2score: 0.5719558879465882.\n",
            "    Validation:\n",
            "    mse: 0.435480493317246, mae: 0.4894865778957202, r2score: 0.5574937357841013.\n",
            "Epoch is 400.\n",
            "    Training:\n",
            "    cost: 0.20925732629144683 mse: 0.41851465258289366, mae: 0.47842347612925806, r2score: 0.5831220868797637.\n",
            "    Validation:\n",
            "    mse: 0.425598039969838, mae: 0.4811481442155498, r2score: 0.5675356264753191.\n",
            "Epoch is 500.\n",
            "    Training:\n",
            "    cost: 0.20505046116965153 mse: 0.41010092233930306, mae: 0.4721844727114814, r2score: 0.5915029124586482.\n",
            "    Validation:\n",
            "    mse: 0.41804679549630297, mae: 0.47543607212761857, r2score: 0.5752086980214439.\n",
            "Epoch is 600.\n",
            "    Training:\n",
            "    cost: 0.2015758854864198 mse: 0.4031517709728396, mae: 0.46718580649264646, r2score: 0.5984248868787293.\n",
            "    Validation:\n",
            "    mse: 0.411741828398196, mae: 0.4709028715420548, r2score: 0.5816153855296142.\n",
            "Epoch is 700.\n",
            "    Training:\n",
            "    cost: 0.19864218510976683 mse: 0.39728437021953367, mae: 0.46302922980903244, r2score: 0.6042693412278966.\n",
            "    Validation:\n",
            "    mse: 0.40640128177110885, mae: 0.46722235670939755, r2score: 0.587042093207888.\n",
            "Epoch is 800.\n",
            "    Training:\n",
            "    cost: 0.19614979461022844 mse: 0.3922995892204569, mae: 0.45948958492544284, r2score: 0.6092346275982343.\n",
            "    Validation:\n",
            "    mse: 0.40187058531949227, mae: 0.4641942533077754, r2score: 0.5916458850926385.\n",
            "Epoch is 900.\n",
            "    Training:\n",
            "    cost: 0.1940264273929066 mse: 0.3880528547858132, mae: 0.4564823966343846, r2score: 0.6134647537784389.\n",
            "    Validation:\n",
            "    mse: 0.39802642681830935, mae: 0.46157362711536803, r2score: 0.5955520628514963.\n",
            "Epoch is 1000.\n",
            "    Training:\n",
            "    cost: 0.19221389432999897 mse: 0.38442778865999794, mae: 0.45389148845719773, r2score: 0.617075642888596.\n",
            "    Validation:\n",
            "    mse: 0.39476357918520555, mae: 0.4593549036369309, r2score: 0.5988675512349878.\n",
            "Epoch is 1100.\n",
            "    Training:\n",
            "    cost: 0.19066406000871589 mse: 0.38132812001743177, mae: 0.4516749828938792, r2score: 0.6201631892554971.\n",
            "    Validation:\n",
            "    mse: 0.39199234553448886, mae: 0.45752759000044146, r2score: 0.6016834942424618.\n",
            "Epoch is 1200.\n",
            "    Training:\n",
            "    cost: 0.18933676120832926 mse: 0.3786735224166585, mae: 0.44979114964983014, r2score: 0.6228074051775792.\n",
            "    Validation:\n",
            "    mse: 0.389636805907576, mae: 0.45596179084949984, r2score: 0.604077036677802.\n",
            "Epoch is 1300.\n",
            "    Training:\n",
            "    cost: 0.18819834770072516 mse: 0.3763966954014503, mae: 0.4481732101576222, r2score: 0.6250753279104584.\n",
            "    Validation:\n",
            "    mse: 0.38763297654294326, mae: 0.4546019485057527, r2score: 0.6061131945766675.\n",
            "Epoch is 1400.\n",
            "    Training:\n",
            "    cost: 0.18722054358316212 mse: 0.37444108716632424, mae: 0.4467804412026607, r2score: 0.6270232880951465.\n",
            "    Validation:\n",
            "    mse: 0.38592702353947295, mae: 0.4534223217540595, r2score: 0.6078466703627887.\n",
            "Epoch is 1500.\n",
            "    Training:\n",
            "    cost: 0.1863795300311012 mse: 0.3727590600622024, mae: 0.4455968404307115, r2score: 0.6286987370779971.\n",
            "    Validation:\n",
            "    mse: 0.38447365589491606, mae: 0.45245645793776285, r2score: 0.6093234857352205.\n",
            "Epoch is 1600.\n",
            "    Training:\n",
            "    cost: 0.18565519810082012 mse: 0.37131039620164025, mae: 0.4445967423756298, r2score: 0.630141735461152.\n",
            "    Validation:\n",
            "    mse: 0.383234739307046, mae: 0.4516445713240451, r2score: 0.6105823902312575.\n",
            "Epoch is 1700.\n",
            "    Training:\n",
            "    cost: 0.18503053647828885 mse: 0.3700610729565777, mae: 0.44375954835683573, r2score: 0.6313861728159735.\n",
            "    Validation:\n",
            "    mse: 0.3821781258427409, mae: 0.450951821348744, r2score: 0.6116560504387407.\n",
            "Epoch is 1800.\n",
            "    Training:\n",
            "    cost: 0.18449112760348735 mse: 0.3689822552069747, mae: 0.443036703702597, r2score: 0.6324607714932624.\n",
            "    Validation:\n",
            "    mse: 0.3812766760845807, mae: 0.4503637341826384, r2score: 0.6125720436255382.\n",
            "Epoch is 1900.\n",
            "    Training:\n",
            "    cost: 0.18402473139348524 mse: 0.3680494627869705, mae: 0.4424056636993896, r2score: 0.6333899159211238.\n",
            "    Validation:\n",
            "    mse: 0.38050744568616734, mae: 0.4498764998951869, r2score: 0.6133536843078344.\n",
            "Epoch is 2000.\n",
            "    Training:\n",
            "    cost: 0.1836209401207529 mse: 0.3672418802415058, mae: 0.4418613423759295, r2score: 0.6341943401489205.\n",
            "    Validation:\n",
            "    mse: 0.3798510094634166, mae: 0.4494533863682578, r2score: 0.6140207110635284.\n",
            "Epoch is 2100.\n",
            "    Training:\n",
            "    cost: 0.18327089134653285 mse: 0.3665417826930657, mae: 0.44140168476504005, r2score: 0.6348916997351933.\n",
            "    Validation:\n",
            "    mse: 0.3792908994222501, mae: 0.44907451876731225, r2score: 0.6145898575710526.\n",
            "Epoch is 2200.\n",
            "    Training:\n",
            "    cost: 0.18296702841857648 mse: 0.36593405683715297, mae: 0.4410112329932651, r2score: 0.6354970488788818.\n",
            "    Validation:\n",
            "    mse: 0.3788131368063309, mae: 0.4487466604459528, r2score: 0.6150753281112873.\n",
            "Epoch is 2300.\n",
            "    Training:\n",
            "    cost: 0.18270290009230247 mse: 0.36540580018460495, mae: 0.44067572496654384, r2score: 0.6360232396097129.\n",
            "    Validation:\n",
            "    mse: 0.3784058416774808, mae: 0.4484660661347217, r2score: 0.6154891942859302.\n",
            "Epoch is 2400.\n",
            "    Training:\n",
            "    cost: 0.18247299245255097 mse: 0.36494598490510194, mae: 0.4403834888262184, r2score: 0.6364812566300417.\n",
            "    Validation:\n",
            "    mse: 0.3780589065004296, mae: 0.44824406195374333, r2score: 0.6158417266989267.\n",
            "Epoch is 2500.\n",
            "    Training:\n",
            "    cost: 0.18227258759630005 mse: 0.3645451751926001, mae: 0.4401255790310065, r2score: 0.6368804988440835.\n",
            "    Validation:\n",
            "    mse: 0.3777637226683706, mae: 0.4480552614109174, r2score: 0.6161416728429809.\n",
            "Epoch is 2600.\n",
            "    Training:\n",
            "    cost: 0.1820976445593367 mse: 0.3641952891186734, mae: 0.4399026087022056, r2score: 0.6372290165732196.\n",
            "    Validation:\n",
            "    mse: 0.37751295092289594, mae: 0.44790379860381224, r2score: 0.6163964903835224.\n",
            "Epoch is 2700.\n",
            "    Training:\n",
            "    cost: 0.18194469878828856 mse: 0.3638893975765771, mae: 0.43971002941426146, r2score: 0.6375337118256397.\n",
            "    Validation:\n",
            "    mse: 0.3773003282604347, mae: 0.4477826292062261, r2score: 0.6166125433675187.\n",
            "Epoch is 2800.\n",
            "    Training:\n",
            "    cost: 0.18181077711777738 mse: 0.36362155423555476, mae: 0.43954455616650356, r2score: 0.6378005076770141.\n",
            "    Validation:\n",
            "    mse: 0.37712050524405966, mae: 0.4476836607568232, r2score: 0.6167952675363787.\n",
            "Epoch is 2900.\n",
            "    Training:\n",
            "    cost: 0.1816933257440866 mse: 0.3633866514881732, mae: 0.43940072921530504, r2score: 0.6380344917597942.\n",
            "    Validation:\n",
            "    mse: 0.3769689087146457, mae: 0.4476084491256743, r2score: 0.616949309829727.\n",
            "Epoch is 3000.\n",
            "    Training:\n",
            "    cost: 0.18159014911834837 mse: 0.36318029823669673, mae: 0.4392753818652682, r2score: 0.6382400379988808.\n",
            "    Validation:\n",
            "    mse: 0.3768416257678573, mae: 0.447547313342398, r2score: 0.6170786462802593.\n",
            "Epoch is 3100.\n",
            "    Training:\n",
            "    cost: 0.1814993580337932 mse: 0.3629987160675864, mae: 0.4391678585161458, r2score: 0.6384209100310819.\n",
            "    Validation:\n",
            "    mse: 0.3767353055736926, mae: 0.4474956764913609, r2score: 0.6171866817781806.\n",
            "Epoch is 3200.\n",
            "    Training:\n",
            "    cost: 0.18141932546944903 mse: 0.36283865093889806, mae: 0.43907710396497973, r2score: 0.6385803491723381.\n",
            "    Validation:\n",
            "    mse: 0.376647076195294, mae: 0.44745891180282565, r2score: 0.617276334594388.\n",
            "Converged at epoch 3200\n",
            "Time taken for convergence is 539.4593896865845\n"
          ]
        }
      ],
      "source": [
        "epochs=10000\n",
        "weights=[0.0]*len(X_train[0])\n",
        "bias=0\n",
        "learning_rate=0.01\n",
        "y_train_np=np.array(y_train) # converting into numpy array\n",
        "y_val_np=np.array(y_val)\n",
        "time_start=time.time()\n",
        "curr_cost=0\n",
        "prev_cost=-1\n",
        "cost_0_list=[]\n",
        "tolerance=1e-4\n",
        "for i in range(1,epochs+1):\n",
        "\n",
        "  if(i%100==0):\n",
        "    mae,mse,r2_score,cost=metrics(weights,bias,X_train,y_train)\n",
        "    mae_val,mse_val,r2_score_val,cost_val=metrics(weights,bias,X_val,y_val)\n",
        "    cost_0_list.append(cost)\n",
        "\n",
        "    print(f\"\"\"Epoch is {i}.\n",
        "    Training:\n",
        "    cost: {cost} mse: {mse}, mae: {mae}, r2score: {r2_score}.\n",
        "    Validation:\n",
        "    mse: {mse_val}, mae: {mae_val}, r2score: {r2_score_val}.\"\"\")\n",
        "\n",
        "    if(abs(curr_cost-prev_cost)<tolerance):\n",
        "      print(f\"Converged at epoch {i}\")\n",
        "      end_time=time.time()\n",
        "      convg_time_0=end_time-time_start\n",
        "\n",
        "      print(f\"Time taken for convergence is {convg_time_0}\")\n",
        "      break\n",
        "    prev_cost=curr_cost\n",
        "    curr_cost=cost\n",
        "\n",
        "  weights,bias=gradient_descent(weights,bias,X_train,y_train,learning_rate)"
      ]
    },
    {
      "cell_type": "code",
      "source": [
        "speed_conv_0= i/convg_time_0\n",
        "speed_conv_0"
      ],
      "metadata": {
        "colab": {
          "base_uri": "https://localhost:8080/"
        },
        "id": "lJSzEklgptr9",
        "outputId": "d17da94b-d258-418a-aeee-97e1fc9e167c"
      },
      "execution_count": null,
      "outputs": [
        {
          "output_type": "execute_result",
          "data": {
            "text/plain": [
              "5.9318644946733405"
            ]
          },
          "metadata": {},
          "execution_count": 48
        }
      ]
    },
    {
      "cell_type": "code",
      "execution_count": null,
      "metadata": {
        "id": "0mDIe7utoaQm"
      },
      "outputs": [],
      "source": [
        "classification_report={'mae':[],'mse':[],'r2score':[],'cost':[],'conv_speed':[]}"
      ]
    },
    {
      "cell_type": "code",
      "source": [
        "mae_0,mse_0,r2_score_0,cost_0=metrics(weights,bias,X_val,y_val)\n",
        "classification_report['mae'].append(mae_0)\n",
        "classification_report['mse'].append(mse_0)\n",
        "classification_report['r2score'].append(r2_score_0)\n",
        "classification_report['cost'].append(cost_0)\n",
        "classification_report['conv_speed'].append(speed_conv_0)"
      ],
      "metadata": {
        "id": "12u2jvx8hgd7"
      },
      "execution_count": null,
      "outputs": []
    },
    {
      "cell_type": "markdown",
      "metadata": {
        "id": "5yeifgCUypw-"
      },
      "source": [
        "# Part 2:\n",
        "\n",
        "Implementing a multiple linear regression model with gradient descent\n",
        "optimization by using a numpy library for vectorized optimization process\n",
        "and to enhance the performance through parellelization."
      ]
    },
    {
      "cell_type": "markdown",
      "source": [
        "## Regression Metrics\n",
        "\n",
        "1.MAE (Mean Absolute Error)\n",
        "\n",
        "2.MSE(Mean squared Error)\n",
        "\n",
        "3.R-Squared Error"
      ],
      "metadata": {
        "id": "MiMEdfF3qH1c"
      }
    },
    {
      "cell_type": "code",
      "source": [
        "def loss_function(X,y_true,weights,bias):\n",
        "  y_pred=np.dot(X,weights)+bias\n",
        "  n=len(y_true)\n",
        "\n",
        "  ss_res=np.sum((y_true-y_pred)**2)   # residual sum of squares\n",
        "  ss_tot=np.sum((y_true-np.mean(y_true))**2)  # total sum of squares\n",
        "\n",
        "  cost=np.sum((y_pred - y_true) ** 2) / (2 * n)\n",
        "\n",
        "  mse=ss_res/n\n",
        "  mae=np.mean(np.abs(y_true-y_pred))\n",
        "  r2_score=1-(ss_res/ss_tot) if ss_tot!=0 else 0\n",
        "\n",
        "  return float(mse), float(mae), float(r2_score), float(cost)\n"
      ],
      "metadata": {
        "id": "taxt3pZJKcSF"
      },
      "execution_count": null,
      "outputs": []
    },
    {
      "cell_type": "code",
      "execution_count": null,
      "metadata": {
        "id": "e_EL-iq3yseP"
      },
      "outputs": [],
      "source": [
        "def gradient_descent(X, y, weights, bias, learning_rate):\n",
        "    n = len(X)\n",
        "    y_pred = np.dot(X, weights) + bias\n",
        "    error =y_pred-y\n",
        "    weights_gradient = (1/n) * np.dot(X.T, error)\n",
        "    bias_gradient = (1/n) * np.sum(error)\n",
        "    weights = weights - learning_rate * weights_gradient\n",
        "    bias = bias - learning_rate * bias_gradient\n",
        "\n",
        "    return weights, bias"
      ]
    },
    {
      "cell_type": "code",
      "execution_count": null,
      "metadata": {
        "id": "Ll1w5m3rH212",
        "colab": {
          "base_uri": "https://localhost:8080/"
        },
        "outputId": "a585ab97-eb2b-4e7a-b2de-dcb098bd0ed7"
      },
      "outputs": [
        {
          "output_type": "stream",
          "name": "stdout",
          "text": [
            "Epoch is 100\n",
            "          Training:\n",
            "          cost: 0.26510100648853907, mse: 0.5302020129770781, mae: 0.5603900665040746, r2_score: 0.47187151671288874.\n",
            "\n",
            "          Validation:\n",
            "          mse: 0.5277829249050797, mae: 0.5583029999818989, r2_score: 0.463702154285592 \n",
            "Epoch is 200\n",
            "          Training:\n",
            "          cost: 0.22549754023973528, mse: 0.45099508047947057, mae: 0.5047543387745427, r2_score: 0.5507686843997919.\n",
            "\n",
            "          Validation:\n",
            "          mse: 0.45429279939722633, mae: 0.505877937943201, r2_score: 0.538377923681185 \n",
            "Epoch is 300\n",
            "          Training:\n",
            "          cost: 0.2148623460347701, mse: 0.4297246920695402, mae: 0.48730206117211267, r2_score: 0.571955887946584.\n",
            "\n",
            "          Validation:\n",
            "          mse: 0.4354804933172466, mae: 0.48948657789571953, r2_score: 0.5574937357841014 \n",
            "Epoch is 400\n",
            "          Training:\n",
            "          cost: 0.209257326291447, mse: 0.418514652582894, mae: 0.4784234761292568, r2_score: 0.5831220868797575.\n",
            "\n",
            "          Validation:\n",
            "          mse: 0.42559803996983875, mae: 0.4811481442155494, r2_score: 0.5675356264753191 \n",
            "Epoch is 500\n",
            "          Training:\n",
            "          cost: 0.20505046116965175, mse: 0.4101009223393035, mae: 0.4721844727114821, r2_score: 0.591502912458642.\n",
            "\n",
            "          Validation:\n",
            "          mse: 0.4180467954963037, mae: 0.4754360721276183, r2_score: 0.5752086980214439 \n",
            "Epoch is 600\n",
            "          Training:\n",
            "          cost: 0.2015758854864204, mse: 0.4031517709728408, mae: 0.46718580649264524, r2_score: 0.5984248868787225.\n",
            "\n",
            "          Validation:\n",
            "          mse: 0.41174182839819684, mae: 0.47090287154205573, r2_score: 0.5816153855296141 \n",
            "Epoch is 700\n",
            "          Training:\n",
            "          cost: 0.19864218510976778, mse: 0.39728437021953555, mae: 0.4630292298090302, r2_score: 0.604269341227889.\n",
            "\n",
            "          Validation:\n",
            "          mse: 0.4064012817711085, mae: 0.4672223567093987, r2_score: 0.587042093207889 \n",
            "Epoch is 800\n",
            "          Training:\n",
            "          cost: 0.19614979461022747, mse: 0.39229958922045494, mae: 0.4594895849254425, r2_score: 0.6092346275982308.\n",
            "\n",
            "          Validation:\n",
            "          mse: 0.40187058531949255, mae: 0.46419425330777575, r2_score: 0.5916458850926389 \n",
            "Epoch is 900\n",
            "          Training:\n",
            "          cost: 0.19402642739290593, mse: 0.38805285478581186, mae: 0.45648239663438483, r2_score: 0.6134647537784348.\n",
            "\n",
            "          Validation:\n",
            "          mse: 0.39802642681830885, mae: 0.4615736271153683, r2_score: 0.5955520628514974 \n",
            "Epoch is 1000\n",
            "          Training:\n",
            "          cost: 0.19221389432999797, mse: 0.38442778865999594, mae: 0.45389148845719884, r2_score: 0.6170756428885925.\n",
            "\n",
            "          Validation:\n",
            "          mse: 0.39476357918520394, mae: 0.4593549036369305, r2_score: 0.5988675512349901 \n",
            "Epoch is 1100\n",
            "          Training:\n",
            "          cost: 0.19066406000871589, mse: 0.38132812001743177, mae: 0.4516749828938804, r2_score: 0.6201631892554917.\n",
            "\n",
            "          Validation:\n",
            "          mse: 0.39199234553448903, mae: 0.4575275900004424, r2_score: 0.6016834942424623 \n",
            "Epoch is 1200\n",
            "          Training:\n",
            "          cost: 0.18933676120832973, mse: 0.37867352241665947, mae: 0.44979114964982964, r2_score: 0.6228074051775729.\n",
            "\n",
            "          Validation:\n",
            "          mse: 0.3896368059075753, mae: 0.45596179084950017, r2_score: 0.6040770366778033 \n",
            "Epoch is 1300\n",
            "          Training:\n",
            "          cost: 0.18819834770072652, mse: 0.37639669540145304, mae: 0.4481732101576209, r2_score: 0.6250753279104504.\n",
            "\n",
            "          Validation:\n",
            "          mse: 0.387632976542943, mae: 0.45460194850575353, r2_score: 0.6061131945766685 \n",
            "Epoch is 1400\n",
            "          Training:\n",
            "          cost: 0.1872205435831625, mse: 0.374441087166325, mae: 0.446780441202663, r2_score: 0.6270232880951405.\n",
            "\n",
            "          Validation:\n",
            "          mse: 0.3859270235394739, mae: 0.45342232175406133, r2_score: 0.6078466703627883 \n",
            "Epoch is 1500\n",
            "          Training:\n",
            "          cost: 0.1863795300311003, mse: 0.3727590600622006, mae: 0.44559684043071063, r2_score: 0.6286987370779935.\n",
            "\n",
            "          Validation:\n",
            "          mse: 0.3844736558949171, mae: 0.4524564579377627, r2_score: 0.6093234857352201 \n",
            "Epoch is 1600\n",
            "          Training:\n",
            "          cost: 0.1856551981008203, mse: 0.3713103962016406, mae: 0.4445967423756278, r2_score: 0.6301417354611465.\n",
            "\n",
            "          Validation:\n",
            "          mse: 0.38323473930704594, mae: 0.45164457132404534, r2_score: 0.6105823902312582 \n",
            "Epoch is 1700\n",
            "          Training:\n",
            "          cost: 0.18503053647828857, mse: 0.37006107295657714, mae: 0.4437595483568348, r2_score: 0.631386172815969.\n",
            "\n",
            "          Validation:\n",
            "          mse: 0.38217812584274086, mae: 0.45095182134874295, r2_score: 0.6116560504387414 \n",
            "Epoch is 1800\n",
            "          Training:\n",
            "          cost: 0.18449112760348793, mse: 0.36898225520697586, mae: 0.4430367037025964, r2_score: 0.6324607714932561.\n",
            "\n",
            "          Validation:\n",
            "          mse: 0.3812766760845807, mae: 0.45036373418263864, r2_score: 0.6125720436255389 \n",
            "Epoch is 1900\n",
            "          Training:\n",
            "          cost: 0.18402473139348505, mse: 0.3680494627869701, mae: 0.4424056636993895, r2_score: 0.6333899159211189.\n",
            "\n",
            "          Validation:\n",
            "          mse: 0.380507445686167, mae: 0.44987649989518635, r2_score: 0.6133536843078353 \n",
            "Epoch is 2000\n",
            "          Training:\n",
            "          cost: 0.1836209401207527, mse: 0.3672418802415054, mae: 0.4418613423759318, r2_score: 0.6341943401489158.\n",
            "\n",
            "          Validation:\n",
            "          mse: 0.3798510094634179, mae: 0.4494533863682579, r2_score: 0.6140207110635278 \n",
            "Epoch is 2100\n",
            "          Training:\n",
            "          cost: 0.18327089134653365, mse: 0.3665417826930673, mae: 0.44140168476503905, r2_score: 0.6348916997351866.\n",
            "\n",
            "          Validation:\n",
            "          mse: 0.3792908994222488, mae: 0.44907451876731314, r2_score: 0.6145898575710544 \n",
            "Epoch is 2200\n",
            "          Training:\n",
            "          cost: 0.1829670284185756, mse: 0.3659340568371512, mae: 0.44101123299326483, r2_score: 0.6354970488788784.\n",
            "\n",
            "          Validation:\n",
            "          mse: 0.3788131368063317, mae: 0.44874666044595285, r2_score: 0.6150753281112871 \n",
            "Epoch is 2300\n",
            "          Training:\n",
            "          cost: 0.1827029000923018, mse: 0.3654058001846036, mae: 0.4406757249665468, r2_score: 0.636023239609709.\n",
            "\n",
            "          Validation:\n",
            "          mse: 0.3784058416774797, mae: 0.4484660661347216, r2_score: 0.615489194285932 \n",
            "Epoch is 2400\n",
            "          Training:\n",
            "          cost: 0.18247299245255016, mse: 0.36494598490510033, mae: 0.440383488826219, r2_score: 0.6364812566300382.\n",
            "\n",
            "          Validation:\n",
            "          mse: 0.37805890650043, mae: 0.4482440619537432, r2_score: 0.6158417266989269 \n",
            "Epoch is 2500\n",
            "          Training:\n",
            "          cost: 0.18227258759630105, mse: 0.3645451751926021, mae: 0.44012557903100774, r2_score: 0.6368804988440764.\n",
            "\n",
            "          Validation:\n",
            "          mse: 0.37776372266836933, mae: 0.44805526141091734, r2_score: 0.6161416728429828 \n",
            "Epoch is 2600\n",
            "          Training:\n",
            "          cost: 0.18209764455933672, mse: 0.36419528911867344, mae: 0.4399026087022071, r2_score: 0.6372290165732144.\n",
            "\n",
            "          Validation:\n",
            "          mse: 0.37751295092289555, mae: 0.4479037986038123, r2_score: 0.6163964903835234 \n",
            "Epoch is 2700\n",
            "          Training:\n",
            "          cost: 0.18194469878828912, mse: 0.36388939757657823, mae: 0.43971002941426107, r2_score: 0.6375337118256335.\n",
            "\n",
            "          Validation:\n",
            "          mse: 0.37730032826043525, mae: 0.44778262920622597, r2_score: 0.6166125433675187 \n",
            "Epoch is 2800\n",
            "          Training:\n",
            "          cost: 0.18181077711777663, mse: 0.36362155423555326, mae: 0.439544556166504, r2_score: 0.6378005076770106.\n",
            "\n",
            "          Validation:\n",
            "          mse: 0.37712050524406043, mae: 0.44768366075682253, r2_score: 0.6167952675363786 \n",
            "Epoch is 2900\n",
            "          Training:\n",
            "          cost: 0.18169332574408592, mse: 0.36338665148817184, mae: 0.43940072921530393, r2_score: 0.6380344917597904.\n",
            "\n",
            "          Validation:\n",
            "          mse: 0.37696890871464606, mae: 0.447608449125674, r2_score: 0.6169493098297274 \n",
            "Epoch is 3000\n",
            "          Training:\n",
            "          cost: 0.18159014911834756, mse: 0.3631802982366951, mae: 0.4392753818652673, r2_score: 0.6382400379988775.\n",
            "\n",
            "          Validation:\n",
            "          mse: 0.37684162576785757, mae: 0.44754731334239767, r2_score: 0.6170786462802598 \n",
            "Epoch is 3100\n",
            "          Training:\n",
            "          cost: 0.18149935803379444, mse: 0.3629987160675889, mae: 0.43916785851614615, r2_score: 0.6384209100310744.\n",
            "\n",
            "          Validation:\n",
            "          mse: 0.37673530557369195, mae: 0.44749567649136046, r2_score: 0.6171866817781819 \n",
            "Epoch is 3200\n",
            "          Training:\n",
            "          cost: 0.1814193254694482, mse: 0.3628386509388964, mae: 0.43907710396498073, r2_score: 0.6385803491723345.\n",
            "\n",
            "          Validation:\n",
            "          mse: 0.3766470761952945, mae: 0.44745891180282654, r2_score: 0.6172763345943881 \n",
            "Converged at epoch 3200\n",
            "Time taken for convergence is 0.8670635223388672\n"
          ]
        }
      ],
      "source": [
        "n_features = X_train[0].shape\n",
        "weights = np.zeros(n_features)\n",
        "bias=0\n",
        "learning_rate=0.01\n",
        "epochs=10000\n",
        "prev_cost=-1\n",
        "curr_cost=0\n",
        "tolerance=1e-4\n",
        "cost_1_list=[]\n",
        "time_start=time.time()\n",
        "\n",
        "for epoch in range(1,epochs+1):\n",
        "\n",
        "  if epoch % 100 == 0:\n",
        "    mse, mae, r2_score, cost = loss_function(X_train,y_train,weights,bias)\n",
        "    mse_val, mae_val, r2_score_val, cost_val = loss_function(X_val,y_val,weights,bias)\n",
        "    cost_1_list.append(cost)\n",
        "    print(f\"\"\"Epoch is {epoch}\n",
        "          Training:\n",
        "          cost: {cost}, mse: {mse}, mae: {mae}, r2_score: {r2_score}.\n",
        "\n",
        "          Validation:\n",
        "          mse: {mse_val}, mae: {mae_val}, r2_score: {r2_score_val} \"\"\")\n",
        "\n",
        "    if(abs(curr_cost-prev_cost)<tolerance):\n",
        "      print(f\"Converged at epoch {epoch}\")\n",
        "      end_time=time.time()\n",
        "      convg_time_1=end_time-time_start\n",
        "      print(f\"Time taken for convergence is {convg_time_1}\")\n",
        "      break\n",
        "    prev_cost=curr_cost\n",
        "    curr_cost=cost\n",
        "\n",
        "  weights, bias = gradient_descent(X_train, y_train, weights, bias, learning_rate)"
      ]
    },
    {
      "cell_type": "code",
      "source": [
        "mse_1, mae_1, r2_score_1, cost_1 = loss_function(X_val,y_val,weights,bias)\n",
        "speed_conv_1=epoch/convg_time_1\n",
        "\n",
        "classification_report['mae'].append(mae_1)\n",
        "classification_report['mse'].append(mse_1)\n",
        "classification_report['r2score'].append(r2_score_1)\n",
        "classification_report['conv_speed'].append(speed_conv_1)\n",
        "classification_report['cost'].append(cost_1)"
      ],
      "metadata": {
        "id": "lzpomvxrfMih"
      },
      "execution_count": null,
      "outputs": []
    },
    {
      "cell_type": "markdown",
      "metadata": {
        "id": "deNX6s70dj0X"
      },
      "source": [
        "# Part 3:"
      ]
    },
    {
      "cell_type": "code",
      "execution_count": null,
      "metadata": {
        "colab": {
          "base_uri": "https://localhost:8080/"
        },
        "id": "2ibNJLxGwyAe",
        "outputId": "a334841a-22fd-414b-a803-68a462f0b3d8"
      },
      "outputs": [
        {
          "output_type": "stream",
          "name": "stdout",
          "text": [
            "Time taken is 0.0059435367584228516\n"
          ]
        }
      ],
      "source": [
        "from sklearn.linear_model import LinearRegression\n",
        "model=LinearRegression()\n",
        "start=time.time()\n",
        "model.fit(X_train,y_train)\n",
        "end=time.time()\n",
        "fitting_time_sklearn=end-start\n",
        "print(f\"Time taken is {fitting_time_sklearn}\")"
      ]
    },
    {
      "cell_type": "code",
      "execution_count": null,
      "metadata": {
        "colab": {
          "base_uri": "https://localhost:8080/"
        },
        "id": "5dKYP4IRxSbh",
        "outputId": "758f0d25-a397-428b-aa28-4370c4c48c1f"
      },
      "outputs": [
        {
          "output_type": "stream",
          "name": "stdout",
          "text": [
            "r2score:0.6142406531011786,mae:0.43907710396498073,mse:0.3628386509388964\n"
          ]
        }
      ],
      "source": [
        "import numpy as np\n",
        "from sklearn.metrics import r2_score, mean_absolute_error, mean_squared_error\n",
        "\n",
        "y_pred=model.predict(X_val)\n",
        "\n",
        "mae_2=float(mean_absolute_error(y_val,y_pred))\n",
        "mse_2=float(mean_squared_error(y_val,y_pred))\n",
        "r2_score_2=float(r2_score(y_val,y_pred))\n",
        "\n",
        "print(f\"r2score:{r2_score_2},mae:{mae},mse:{mse}\")\n",
        "\n",
        "classification_report['mae'].append(mae_2)\n",
        "classification_report['mse'].append(mse_2)\n",
        "classification_report['r2score'].append(r2_score_2)"
      ]
    },
    {
      "cell_type": "markdown",
      "source": [
        "# Evaluation and Comparison"
      ],
      "metadata": {
        "id": "QvEmnPtQDRdR"
      }
    },
    {
      "cell_type": "markdown",
      "source": [
        "## Cost Function vs Epochs\n"
      ],
      "metadata": {
        "id": "n_ZIJQtp07_B"
      }
    },
    {
      "cell_type": "code",
      "source": [
        "plt.figure(figsize=(7,5))\n",
        "plt.plot(cost_0_list,label=\"Pure Python\")\n",
        "plt.plot(cost_1_list,label=\"Optmized Numpy\",ls='--')\n",
        "plt.xlabel(\"Epochs%1000\")\n",
        "plt.ylabel(\"Cost\")\n",
        "plt.title(\"Cost vs Epochs\")\n",
        "plt.legend()\n",
        "plt.show()"
      ],
      "metadata": {
        "colab": {
          "base_uri": "https://localhost:8080/",
          "height": 487
        },
        "id": "Sp7i9jN2VaSP",
        "outputId": "4f7815d0-8015-42c7-85ba-c61757575769"
      },
      "execution_count": null,
      "outputs": [
        {
          "output_type": "display_data",
          "data": {
            "text/plain": [
              "<Figure size 700x500 with 1 Axes>"
            ],
            "image/png": "[encoded data removed]"
          },
          "metadata": {}
        }
      ]
    },
    {
      "cell_type": "code",
      "source": [
        "classification_report"
      ],
      "metadata": {
        "colab": {
          "base_uri": "https://localhost:8080/"
        },
        "id": "zdoT8WLckgEW",
        "outputId": "48f32209-13e1-4182-9800-b708ea54ccbd"
      },
      "execution_count": null,
      "outputs": [
        {
          "output_type": "execute_result",
          "data": {
            "text/plain": [
              "{'mae': [0.44745891180282565, 0.44745891180282654, 0.4493076576814987],\n",
              " 'mse': [0.376647076195294, 0.3766470761952945, 0.3796345594946766],\n",
              " 'r2score': [0.617276334594388, 0.6172763345943881, 0.6142406531011786],\n",
              " 'cost': [0.188323538097647, 0.18832353809764724],\n",
              " 'conv_speed': [5.9318644946733405, 3690.6177201044457]}"
            ]
          },
          "metadata": {},
          "execution_count": 58
        }
      ]
    },
    {
      "cell_type": "markdown",
      "source": [
        "## Regression Metrics"
      ],
      "metadata": {
        "id": "LykwwurAC71f"
      }
    },
    {
      "cell_type": "code",
      "source": [
        "import matplotlib.pyplot as plt\n",
        "import numpy as np\n",
        "\n",
        "\n",
        "models=['Pure Python', 'Optmized Numpy', 'sklearn (Linear Regression)']\n",
        "x = np.arange(len(models))\n",
        "width = 0.25\n",
        "\n",
        "plt.figure(figsize=(7, 5))\n",
        "plt.bar(x - width, classification_report['mae'], width, label='MAE')\n",
        "plt.bar(x,classification_report['mse'], width, label='MSE')\n",
        "plt.bar(x + width, classification_report['r2score'], width, label='R² Score')\n",
        "\n",
        "plt.xlabel('Models')\n",
        "plt.ylabel('Metric Values')\n",
        "plt.title('Regression Metrics Across Three Models')\n",
        "plt.xticks(x, models)\n",
        "plt.legend()\n",
        "plt.tight_layout()\n",
        "plt.show()\n"
      ],
      "metadata": {
        "colab": {
          "base_uri": "https://localhost:8080/",
          "height": 471
        },
        "id": "RWh7-BCVmZku",
        "outputId": "40ca19bd-6a3c-45b0-ddfd-a30e27114a58"
      },
      "execution_count": null,
      "outputs": [
        {
          "output_type": "display_data",
          "data": {
            "text/plain": [
              "<Figure size 700x500 with 1 Axes>"
            ],
            "image/png": "[encoded data removed]"
          },
          "metadata": {}
        }
      ]
    },
    {
      "cell_type": "markdown",
      "source": [
        "# Final Costs"
      ],
      "metadata": {
        "id": "ZyfVny4aC_Hw"
      }
    },
    {
      "cell_type": "code",
      "source": [
        "plt.bar([0,1],classification_report['cost'],label='Final cost')\n",
        "plt.xticks([0,1],labels=['Pure Python','Optimized Numpy'])\n",
        "plt.xlabel('Models')\n",
        "plt.ylabel('Cost')\n",
        "plt.title('Final Cost of Models')\n",
        "plt.show()"
      ],
      "metadata": {
        "colab": {
          "base_uri": "https://localhost:8080/",
          "height": 472
        },
        "id": "vrrsM9PNyk14",
        "outputId": "c328cdcd-7a2e-4582-c78c-22295286d8c6"
      },
      "execution_count": null,
      "outputs": [
        {
          "output_type": "display_data",
          "data": {
            "text/plain": [
              "<Figure size 640x480 with 1 Axes>"
            ],
            "image/png": "[encoded data removed]"
          },
          "metadata": {}
        }
      ]
    },
    {
      "cell_type": "markdown",
      "source": [
        "## Convergence Speed of Models"
      ],
      "metadata": {
        "id": "NFl6N63aDExZ"
      }
    },
    {
      "cell_type": "code",
      "source": [
        "plt.bar([0,1],classification_report['conv_speed'],label='Convergence Speed')\n",
        "plt.xticks([0,1],labels=['Pure Python','Optimized Numpy'])\n",
        "plt.xlabel('Models')\n",
        "plt.ylabel('Convergence Speed')\n",
        "plt.title('Convergence Speed of Models')\n",
        "plt.show()"
      ],
      "metadata": {
        "colab": {
          "base_uri": "https://localhost:8080/",
          "height": 472
        },
        "id": "Iv-WKM9D0JOG",
        "outputId": "28b50444-c44b-44c0-e860-1ac658bd1b59"
      },
      "execution_count": null,
      "outputs": [
        {
          "output_type": "display_data",
          "data": {
            "text/plain": [
              "<Figure size 640x480 with 1 Axes>"
            ],
            "image/png": "[encoded data removed]"
          },
          "metadata": {}
        }
      ]
    }
  ],
  "metadata": {
    "colab": {
      "provenance": []
    },
    "kernelspec": {
      "display_name": "Python 3",
      "name": "python3"
    },
    "language_info": {
      "name": "python"
    }
  },
  "nbformat": 4,
  "nbformat_minor": 0
}
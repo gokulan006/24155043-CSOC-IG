{
 "cells": [
  {
   "cell_type": "code",
   "execution_count": 1,
   "id": "41574bb3",
   "metadata": {},
   "outputs": [],
   "source": [
    "import torch"
   ]
  },
  {
   "cell_type": "code",
   "execution_count": 2,
   "id": "0832f4bb",
   "metadata": {},
   "outputs": [
    {
     "name": "stdout",
     "output_type": "stream",
     "text": [
      "Using device: cuda\n"
     ]
    }
   ],
   "source": [
    "device = torch.device('cuda' if torch.cuda.is_available() else 'cpu')\n",
    "print('Using device:', device)"
   ]
  },
  {
   "cell_type": "markdown",
   "id": "ec9d1045",
   "metadata": {},
   "source": [
    "### Data Preprocessing"
   ]
  },
  {
   "cell_type": "code",
   "execution_count": 3,
   "id": "6fb19eb4",
   "metadata": {},
   "outputs": [],
   "source": [
    "import pandas as pd\n",
    "import numpy as np\n",
    "import matplotlib.pyplot as plt"
   ]
  },
  {
   "cell_type": "code",
   "execution_count": 7,
   "id": "79394f38",
   "metadata": {},
   "outputs": [
    {
     "data": {
      "text/html": [
       "<div>\n",
       "<style scoped>\n",
       "    .dataframe tbody tr th:only-of-type {\n",
       "        vertical-align: middle;\n",
       "    }\n",
       "\n",
       "    .dataframe tbody tr th {\n",
       "        vertical-align: top;\n",
       "    }\n",
       "\n",
       "    .dataframe thead th {\n",
       "        text-align: right;\n",
       "    }\n",
       "</style>\n",
       "<table border=\"1\" class=\"dataframe\">\n",
       "  <thead>\n",
       "    <tr style=\"text-align: right;\">\n",
       "      <th></th>\n",
       "      <th>PatientId</th>\n",
       "      <th>AppointmentID</th>\n",
       "      <th>Gender</th>\n",
       "      <th>ScheduledDay</th>\n",
       "      <th>AppointmentDay</th>\n",
       "      <th>Age</th>\n",
       "      <th>Neighbourhood</th>\n",
       "      <th>Scholarship</th>\n",
       "      <th>Hipertension</th>\n",
       "      <th>Diabetes</th>\n",
       "      <th>Alcoholism</th>\n",
       "      <th>Handcap</th>\n",
       "      <th>SMS_received</th>\n",
       "      <th>No-show</th>\n",
       "    </tr>\n",
       "  </thead>\n",
       "  <tbody>\n",
       "    <tr>\n",
       "      <th>0</th>\n",
       "      <td>2.987250e+13</td>\n",
       "      <td>5642903</td>\n",
       "      <td>F</td>\n",
       "      <td>2016-04-29T18:38:08Z</td>\n",
       "      <td>2016-04-29T00:00:00Z</td>\n",
       "      <td>62</td>\n",
       "      <td>JARDIM DA PENHA</td>\n",
       "      <td>0</td>\n",
       "      <td>1</td>\n",
       "      <td>0</td>\n",
       "      <td>0</td>\n",
       "      <td>0</td>\n",
       "      <td>0</td>\n",
       "      <td>No</td>\n",
       "    </tr>\n",
       "    <tr>\n",
       "      <th>1</th>\n",
       "      <td>5.589978e+14</td>\n",
       "      <td>5642503</td>\n",
       "      <td>M</td>\n",
       "      <td>2016-04-29T16:08:27Z</td>\n",
       "      <td>2016-04-29T00:00:00Z</td>\n",
       "      <td>56</td>\n",
       "      <td>JARDIM DA PENHA</td>\n",
       "      <td>0</td>\n",
       "      <td>0</td>\n",
       "      <td>0</td>\n",
       "      <td>0</td>\n",
       "      <td>0</td>\n",
       "      <td>0</td>\n",
       "      <td>No</td>\n",
       "    </tr>\n",
       "    <tr>\n",
       "      <th>2</th>\n",
       "      <td>4.262962e+12</td>\n",
       "      <td>5642549</td>\n",
       "      <td>F</td>\n",
       "      <td>2016-04-29T16:19:04Z</td>\n",
       "      <td>2016-04-29T00:00:00Z</td>\n",
       "      <td>62</td>\n",
       "      <td>MATA DA PRAIA</td>\n",
       "      <td>0</td>\n",
       "      <td>0</td>\n",
       "      <td>0</td>\n",
       "      <td>0</td>\n",
       "      <td>0</td>\n",
       "      <td>0</td>\n",
       "      <td>No</td>\n",
       "    </tr>\n",
       "    <tr>\n",
       "      <th>3</th>\n",
       "      <td>8.679512e+11</td>\n",
       "      <td>5642828</td>\n",
       "      <td>F</td>\n",
       "      <td>2016-04-29T17:29:31Z</td>\n",
       "      <td>2016-04-29T00:00:00Z</td>\n",
       "      <td>8</td>\n",
       "      <td>PONTAL DE CAMBURI</td>\n",
       "      <td>0</td>\n",
       "      <td>0</td>\n",
       "      <td>0</td>\n",
       "      <td>0</td>\n",
       "      <td>0</td>\n",
       "      <td>0</td>\n",
       "      <td>No</td>\n",
       "    </tr>\n",
       "    <tr>\n",
       "      <th>4</th>\n",
       "      <td>8.841186e+12</td>\n",
       "      <td>5642494</td>\n",
       "      <td>F</td>\n",
       "      <td>2016-04-29T16:07:23Z</td>\n",
       "      <td>2016-04-29T00:00:00Z</td>\n",
       "      <td>56</td>\n",
       "      <td>JARDIM DA PENHA</td>\n",
       "      <td>0</td>\n",
       "      <td>1</td>\n",
       "      <td>1</td>\n",
       "      <td>0</td>\n",
       "      <td>0</td>\n",
       "      <td>0</td>\n",
       "      <td>No</td>\n",
       "    </tr>\n",
       "  </tbody>\n",
       "</table>\n",
       "</div>"
      ],
      "text/plain": [
       "      PatientId  AppointmentID Gender          ScheduledDay  \\\n",
       "0  2.987250e+13        5642903      F  2016-04-29T18:38:08Z   \n",
       "1  5.589978e+14        5642503      M  2016-04-29T16:08:27Z   \n",
       "2  4.262962e+12        5642549      F  2016-04-29T16:19:04Z   \n",
       "3  8.679512e+11        5642828      F  2016-04-29T17:29:31Z   \n",
       "4  8.841186e+12        5642494      F  2016-04-29T16:07:23Z   \n",
       "\n",
       "         AppointmentDay  Age      Neighbourhood  Scholarship  Hipertension  \\\n",
       "0  2016-04-29T00:00:00Z   62    JARDIM DA PENHA            0             1   \n",
       "1  2016-04-29T00:00:00Z   56    JARDIM DA PENHA            0             0   \n",
       "2  2016-04-29T00:00:00Z   62      MATA DA PRAIA            0             0   \n",
       "3  2016-04-29T00:00:00Z    8  PONTAL DE CAMBURI            0             0   \n",
       "4  2016-04-29T00:00:00Z   56    JARDIM DA PENHA            0             1   \n",
       "\n",
       "   Diabetes  Alcoholism  Handcap  SMS_received No-show  \n",
       "0         0           0        0             0      No  \n",
       "1         0           0        0             0      No  \n",
       "2         0           0        0             0      No  \n",
       "3         0           0        0             0      No  \n",
       "4         1           0        0             0      No  "
      ]
     },
     "execution_count": 7,
     "metadata": {},
     "output_type": "execute_result"
    }
   ],
   "source": [
    "df=pd.read_csv('KaggleV2-May-2016.csv')\n",
    "df.head()"
   ]
  },
  {
   "cell_type": "code",
   "execution_count": 5,
   "id": "bfed523e",
   "metadata": {},
   "outputs": [
    {
     "name": "stdout",
     "output_type": "stream",
     "text": [
      "<class 'pandas.core.frame.DataFrame'>\n",
      "RangeIndex: 110527 entries, 0 to 110526\n",
      "Data columns (total 14 columns):\n",
      " #   Column          Non-Null Count   Dtype  \n",
      "---  ------          --------------   -----  \n",
      " 0   PatientId       110527 non-null  float64\n",
      " 1   AppointmentID   110527 non-null  int64  \n",
      " 2   Gender          110527 non-null  object \n",
      " 3   ScheduledDay    110527 non-null  object \n",
      " 4   AppointmentDay  110527 non-null  object \n",
      " 5   Age             110527 non-null  int64  \n",
      " 6   Neighbourhood   110527 non-null  object \n",
      " 7   Scholarship     110527 non-null  int64  \n",
      " 8   Hipertension    110527 non-null  int64  \n",
      " 9   Diabetes        110527 non-null  int64  \n",
      " 10  Alcoholism      110527 non-null  int64  \n",
      " 11  Handcap         110527 non-null  int64  \n",
      " 12  SMS_received    110527 non-null  int64  \n",
      " 13  No-show         110527 non-null  object \n",
      "dtypes: float64(1), int64(8), object(5)\n",
      "memory usage: 11.8+ MB\n"
     ]
    }
   ],
   "source": [
    "df.info()"
   ]
  },
  {
   "cell_type": "markdown",
   "id": "55cdcd88",
   "metadata": {},
   "source": [
    "#### Dropping unwanted columns"
   ]
  },
  {
   "cell_type": "code",
   "execution_count": 8,
   "id": "b69561ab",
   "metadata": {},
   "outputs": [
    {
     "data": {
      "text/html": [
       "<div>\n",
       "<style scoped>\n",
       "    .dataframe tbody tr th:only-of-type {\n",
       "        vertical-align: middle;\n",
       "    }\n",
       "\n",
       "    .dataframe tbody tr th {\n",
       "        vertical-align: top;\n",
       "    }\n",
       "\n",
       "    .dataframe thead th {\n",
       "        text-align: right;\n",
       "    }\n",
       "</style>\n",
       "<table border=\"1\" class=\"dataframe\">\n",
       "  <thead>\n",
       "    <tr style=\"text-align: right;\">\n",
       "      <th></th>\n",
       "      <th>Gender</th>\n",
       "      <th>Age</th>\n",
       "      <th>Neighbourhood</th>\n",
       "      <th>Scholarship</th>\n",
       "      <th>Hipertension</th>\n",
       "      <th>Diabetes</th>\n",
       "      <th>Alcoholism</th>\n",
       "      <th>Handcap</th>\n",
       "      <th>SMS_received</th>\n",
       "      <th>No-show</th>\n",
       "    </tr>\n",
       "  </thead>\n",
       "  <tbody>\n",
       "    <tr>\n",
       "      <th>0</th>\n",
       "      <td>F</td>\n",
       "      <td>62</td>\n",
       "      <td>JARDIM DA PENHA</td>\n",
       "      <td>0</td>\n",
       "      <td>1</td>\n",
       "      <td>0</td>\n",
       "      <td>0</td>\n",
       "      <td>0</td>\n",
       "      <td>0</td>\n",
       "      <td>No</td>\n",
       "    </tr>\n",
       "    <tr>\n",
       "      <th>1</th>\n",
       "      <td>M</td>\n",
       "      <td>56</td>\n",
       "      <td>JARDIM DA PENHA</td>\n",
       "      <td>0</td>\n",
       "      <td>0</td>\n",
       "      <td>0</td>\n",
       "      <td>0</td>\n",
       "      <td>0</td>\n",
       "      <td>0</td>\n",
       "      <td>No</td>\n",
       "    </tr>\n",
       "    <tr>\n",
       "      <th>2</th>\n",
       "      <td>F</td>\n",
       "      <td>62</td>\n",
       "      <td>MATA DA PRAIA</td>\n",
       "      <td>0</td>\n",
       "      <td>0</td>\n",
       "      <td>0</td>\n",
       "      <td>0</td>\n",
       "      <td>0</td>\n",
       "      <td>0</td>\n",
       "      <td>No</td>\n",
       "    </tr>\n",
       "    <tr>\n",
       "      <th>3</th>\n",
       "      <td>F</td>\n",
       "      <td>8</td>\n",
       "      <td>PONTAL DE CAMBURI</td>\n",
       "      <td>0</td>\n",
       "      <td>0</td>\n",
       "      <td>0</td>\n",
       "      <td>0</td>\n",
       "      <td>0</td>\n",
       "      <td>0</td>\n",
       "      <td>No</td>\n",
       "    </tr>\n",
       "    <tr>\n",
       "      <th>4</th>\n",
       "      <td>F</td>\n",
       "      <td>56</td>\n",
       "      <td>JARDIM DA PENHA</td>\n",
       "      <td>0</td>\n",
       "      <td>1</td>\n",
       "      <td>1</td>\n",
       "      <td>0</td>\n",
       "      <td>0</td>\n",
       "      <td>0</td>\n",
       "      <td>No</td>\n",
       "    </tr>\n",
       "  </tbody>\n",
       "</table>\n",
       "</div>"
      ],
      "text/plain": [
       "  Gender  Age      Neighbourhood  Scholarship  Hipertension  Diabetes  \\\n",
       "0      F   62    JARDIM DA PENHA            0             1         0   \n",
       "1      M   56    JARDIM DA PENHA            0             0         0   \n",
       "2      F   62      MATA DA PRAIA            0             0         0   \n",
       "3      F    8  PONTAL DE CAMBURI            0             0         0   \n",
       "4      F   56    JARDIM DA PENHA            0             1         1   \n",
       "\n",
       "   Alcoholism  Handcap  SMS_received No-show  \n",
       "0           0        0             0      No  \n",
       "1           0        0             0      No  \n",
       "2           0        0             0      No  \n",
       "3           0        0             0      No  \n",
       "4           0        0             0      No  "
      ]
     },
     "execution_count": 8,
     "metadata": {},
     "output_type": "execute_result"
    }
   ],
   "source": [
    "df.drop(columns=['PatientId','AppointmentID','ScheduledDay','AppointmentDay'],inplace=True)\n",
    "df.head()"
   ]
  },
  {
   "cell_type": "code",
   "execution_count": null,
   "id": "8d480e8a",
   "metadata": {},
   "outputs": [
    {
     "data": {
      "text/plain": [
       "No-show\n",
       "No     88208\n",
       "Yes    22319\n",
       "Name: count, dtype: int64"
      ]
     },
     "execution_count": 9,
     "metadata": {},
     "output_type": "execute_result"
    }
   ],
   "source": [
    "df['No-show'].value_counts()\n",
    "# The target class is imbalanced in the ratio of 4:1 which is high class imbalance in the dataset"
   ]
  },
  {
   "cell_type": "markdown",
   "id": "516eab62",
   "metadata": {},
   "source": [
    "#### Label Encoding "
   ]
  },
  {
   "cell_type": "code",
   "execution_count": 13,
   "id": "7ce9cb48",
   "metadata": {},
   "outputs": [],
   "source": [
    "from sklearn.preprocessing import LabelEncoder\n",
    "le=LabelEncoder()\n",
    "df['Gender']=le.fit_transform(df['Gender'])\n",
    "df['No-show']=le.fit_transform(df['No-show'])\n",
    "df['Neighbourhood']=le.fit_transform(df['Neighbourhood'])"
   ]
  },
  {
   "cell_type": "code",
   "execution_count": 14,
   "id": "b27b258b",
   "metadata": {},
   "outputs": [
    {
     "data": {
      "text/plain": [
       "((110527, 9), (110527,))"
      ]
     },
     "execution_count": 14,
     "metadata": {},
     "output_type": "execute_result"
    }
   ],
   "source": [
    "# separating the features and target\n",
    "X=df.drop(columns=['No-show'])\n",
    "y=df['No-show']\n",
    "\n",
    "X.shape,y.shape"
   ]
  },
  {
   "cell_type": "markdown",
   "id": "f29ae754",
   "metadata": {},
   "source": [
    "#### Feature Scaling"
   ]
  },
  {
   "cell_type": "code",
   "execution_count": 15,
   "id": "438b29f2",
   "metadata": {},
   "outputs": [],
   "source": [
    "from sklearn.preprocessing import StandardScaler\n",
    "scalar=StandardScaler()\n",
    "X=scalar.fit_transform(X)"
   ]
  },
  {
   "cell_type": "markdown",
   "id": "8f01caa6",
   "metadata": {},
   "source": [
    "#### Splitting into train and validation dataset"
   ]
  },
  {
   "cell_type": "code",
   "execution_count": 16,
   "id": "6818431c",
   "metadata": {},
   "outputs": [
    {
     "data": {
      "text/plain": [
       "((88421, 9), (22106, 9), (88421,), (22106,))"
      ]
     },
     "execution_count": 16,
     "metadata": {},
     "output_type": "execute_result"
    }
   ],
   "source": [
    "from sklearn.model_selection import train_test_split\n",
    "X_train,X_val,y_train,y_val=train_test_split(X,y,test_size=0.2,stratify=y)\n",
    "X_train.shape,X_val.shape,y_train.shape,y_val.shape"
   ]
  },
  {
   "cell_type": "markdown",
   "id": "f5b75b10",
   "metadata": {},
   "source": [
    "#### Part 1: From Scratch Implementation"
   ]
  },
  {
   "cell_type": "code",
   "execution_count": 17,
   "id": "3f7eff43",
   "metadata": {},
   "outputs": [],
   "source": [
    "input_size=X_train.shape[1]"
   ]
  },
  {
   "cell_type": "code",
   "execution_count": 31,
   "id": "9cb3bfed",
   "metadata": {},
   "outputs": [
    {
     "data": {
      "text/plain": [
       "((88421, 9), (22106, 9), (88421,), (22106,))"
      ]
     },
     "execution_count": 31,
     "metadata": {},
     "output_type": "execute_result"
    }
   ],
   "source": [
    "X_train.shape,X_val.shape,y_train.shape,y_val.shape"
   ]
  },
  {
   "cell_type": "code",
   "execution_count": 46,
   "id": "c7299ec2",
   "metadata": {},
   "outputs": [],
   "source": [
    "from sklearn.utils.class_weight import compute_class_weight\n",
    "\n",
    "classes = np.unique(y_train)\n",
    "weights = compute_class_weight('balanced', classes=classes, y=y_train)\n",
    "class_weights = {0: weights[0], 1: weights[1]}"
   ]
  },
  {
   "cell_type": "code",
   "execution_count": null,
   "id": "5dfd0a69",
   "metadata": {},
   "outputs": [],
   "source": [
    "import numpy as np\n",
    "from sklearn.metrics import classification_report, f1_score, roc_auc_score, confusion_matrix\n",
    "from sklearn.utils.class_weight import compute_class_weight\n",
    "\n",
    "def initialize_parameters(input_size, hidden_layers=[128, 64]):\n",
    "     \n",
    "    weights = []\n",
    "    biases = []\n",
    "    layers = [input_size] + hidden_layers + [1]  \n",
    "    \n",
    "    for i in range(len(layers)-1):\n",
    "        weights.append(np.random.randn(layers[i], layers[i+1]) * 0.01)\n",
    "        biases.append(np.zeros((1, layers[i+1])))\n",
    "    \n",
    "    return weights, biases\n",
    "\n",
    "def sigmoid(x):\n",
    "     \n",
    "    return 1 / (1 + np.exp(-x))\n",
    "\n",
    "def forward_propagation(X, weights, biases):\n",
    "     \n",
    "    activations = [X]\n",
    "    z_layers = []\n",
    "    \n",
    "    for i in range(len(weights)):\n",
    "        z = np.dot(activations[-1], weights[i]) + biases[i]\n",
    "        a = sigmoid(z) if i < len(weights)-1 else z   \n",
    "        z_layers.append(z)\n",
    "        activations.append(a)\n",
    "    \n",
    "    return activations, z_layers\n",
    "\n",
    "def compute_weighted_loss(y_true, y_pred, class_weights):\n",
    "    \n",
    "    y_true = np.asarray(y_true).reshape(-1, 1)\n",
    "    y_pred = np.asarray(y_pred).reshape(-1, 1)\n",
    "    sample_weights = np.where(y_true == 1, class_weights[1], class_weights[0])\n",
    "    return np.mean(sample_weights * (y_true - y_pred)**2)\n",
    "\n",
    "def backward_propagation(X, y, activations, z_layers, weights, biases, class_weights):\n",
    "    \n",
    "    m = X.shape[0]\n",
    "    y = np.array(y).reshape(-1, 1)\n",
    "    \n",
    "    grads_w = [np.zeros_like(w) for w in weights]\n",
    "    grads_b = [np.zeros_like(b) for b in biases]\n",
    "    \n",
    "    sample_weights = np.where(y == 1, class_weights[1], class_weights[0])\n",
    "    dA = 2 * sample_weights * (activations[-1] - y) / m\n",
    "    \n",
    "    grads_w[-1] = np.dot(activations[-2].T, dA)\n",
    "    grads_b[-1] = np.sum(dA, axis=0, keepdims=True)\n",
    "    \n",
    "    for l in range(len(weights)-2, -1, -1):\n",
    "        dZ = dA * (activations[l+1] * (1 - activations[l+1]))\n",
    "        grads_w[l] = np.dot(activations[l].T, dZ)\n",
    "        grads_b[l] = np.sum(dZ, axis=0, keepdims=True)\n",
    "        dA = np.dot(dZ, weights[l].T)\n",
    "    \n",
    "    return grads_w, grads_b\n",
    "\n",
    "def update_parameters(weights, biases, grads_w, grads_b, learning_rate=0.01):\n",
    "     \n",
    "    for i in range(len(weights)):\n",
    "        weights[i] -= learning_rate * grads_w[i]\n",
    "        biases[i] -= learning_rate * grads_b[i]\n",
    "    return weights, biases\n",
    "\n",
    "def train(X_train, X_val, y_train, y_val, epochs=100, learning_rate=0.001, \n",
    "          hidden_layers=[128, 64], class_weights=None):\n",
    "     \n",
    "    X_train = np.array(X_train, dtype=np.float32)\n",
    "    y_train = np.array(y_train).reshape(-1, 1)\n",
    "    X_val = np.array(X_val, dtype=np.float32)\n",
    "    y_val = np.array(y_val).reshape(-1, 1)\n",
    "    \n",
    "    if class_weights is None:\n",
    "        class_weights = {0: 1.0, 1: 1.0}\n",
    "    \n",
    "    \n",
    "    input_size = X_train.shape[1]\n",
    "    weights, biases = initialize_parameters(input_size, hidden_layers)\n",
    "    \n",
    "    best_weights, best_biases = None, None\n",
    "    best_val_loss = float('inf')\n",
    "    \n",
    "    for epoch in range(epochs):\n",
    "        \n",
    "        activations, z_layers = forward_propagation(X_train, weights, biases)\n",
    "          \n",
    "        train_loss = compute_weighted_loss(y_train, activations[-1], class_weights)\n",
    "        val_activations, _ = forward_propagation(X_val, weights, biases)\n",
    "        val_loss = compute_weighted_loss(y_val, val_activations[-1], class_weights)\n",
    "          \n",
    "        if val_loss < best_val_loss:\n",
    "            best_val_loss = val_loss\n",
    "            best_weights = [w.copy() for w in weights]\n",
    "            best_biases = [b.copy() for b in biases]\n",
    "        \n",
    "        grads_w, grads_b = backward_propagation(\n",
    "            X_train, y_train, activations, z_layers, weights, biases, class_weights\n",
    "        )\n",
    "        \n",
    "        weights, biases = update_parameters(weights, biases, grads_w, grads_b, learning_rate)\n",
    "        \n",
    "        if epoch % 10 == 0:\n",
    "            print(f\"Epoch {epoch}: Train Loss = {train_loss:.4f}, Val Loss = {val_loss:.4f}\")\n",
    "    \n",
    "    print(f\"Training complete. Best Val Loss: {best_val_loss:.4f}\")\n",
    "    return best_weights, best_biases\n",
    "\n",
    "def evaluate_model(X_test, y_test, weights, biases, threshold=0.5):\n",
    "     \n",
    "    activations, _ = forward_propagation(X_test, weights, biases)\n",
    "    y_pred_cont = activations[-1]\n",
    "    \n",
    "    y_pred_bin = (y_pred_cont > threshold).astype(int)\n",
    "    \n",
    "    metrics = {\n",
    "        'classification_report': classification_report(y_test, y_pred_bin),\n",
    "        'f1_score': f1_score(y_test, y_pred_bin),\n",
    "        'roc_auc': roc_auc_score(y_test, y_pred_cont),   \n",
    "        'confusion_matrix': confusion_matrix(y_test, y_pred_bin)\n",
    "    }\n",
    "    \n",
    "    return metrics\n"
   ]
  },
  {
   "cell_type": "code",
   "execution_count": 48,
   "id": "cd7906dc",
   "metadata": {},
   "outputs": [],
   "source": [
    "from sklearn.utils.class_weight import compute_class_weight\n",
    "\n",
    "classes = np.unique(y_train)\n",
    "weights = compute_class_weight('balanced', classes=classes, y=y_train)\n",
    "class_weights = {0: weights[0], 1: weights[1]}"
   ]
  },
  {
   "cell_type": "code",
   "execution_count": 50,
   "id": "1483d011",
   "metadata": {},
   "outputs": [
    {
     "name": "stdout",
     "output_type": "stream",
     "text": [
      "Epoch 0: Train Loss = 0.5000, Val Loss = 0.5000\n",
      "Epoch 10: Train Loss = 0.3707, Val Loss = 0.3707\n",
      "Epoch 20: Train Loss = 0.3048, Val Loss = 0.3048\n",
      "Epoch 30: Train Loss = 0.2739, Val Loss = 0.2739\n",
      "Epoch 40: Train Loss = 0.2601, Val Loss = 0.2601\n",
      "Epoch 50: Train Loss = 0.2542, Val Loss = 0.2542\n",
      "Epoch 60: Train Loss = 0.2517, Val Loss = 0.2517\n",
      "Epoch 70: Train Loss = 0.2507, Val Loss = 0.2507\n",
      "Epoch 80: Train Loss = 0.2503, Val Loss = 0.2503\n",
      "Epoch 90: Train Loss = 0.2501, Val Loss = 0.2501\n",
      "Training complete. Best Val Loss: 0.2501\n",
      "Classification Report:\n",
      "               precision    recall  f1-score   support\n",
      "\n",
      "           0       0.80      1.00      0.89     17642\n",
      "           1       0.00      0.00      0.00      4464\n",
      "\n",
      "    accuracy                           0.80     22106\n",
      "   macro avg       0.40      0.50      0.44     22106\n",
      "weighted avg       0.64      0.80      0.71     22106\n",
      "\n",
      "F1 Score: 0.0\n",
      "ROC AUC: 0.6061887890538178\n",
      "Confusion Matrix:\n",
      " [[17642     0]\n",
      " [ 4464     0]]\n"
     ]
    },
    {
     "name": "stderr",
     "output_type": "stream",
     "text": [
      "c:\\Users\\gokul\\anaconda3\\envs\\hello\\Lib\\site-packages\\sklearn\\metrics\\_classification.py:1565: UndefinedMetricWarning: Precision is ill-defined and being set to 0.0 in labels with no predicted samples. Use `zero_division` parameter to control this behavior.\n",
      "  _warn_prf(average, modifier, f\"{metric.capitalize()} is\", len(result))\n",
      "c:\\Users\\gokul\\anaconda3\\envs\\hello\\Lib\\site-packages\\sklearn\\metrics\\_classification.py:1565: UndefinedMetricWarning: Precision is ill-defined and being set to 0.0 in labels with no predicted samples. Use `zero_division` parameter to control this behavior.\n",
      "  _warn_prf(average, modifier, f\"{metric.capitalize()} is\", len(result))\n",
      "c:\\Users\\gokul\\anaconda3\\envs\\hello\\Lib\\site-packages\\sklearn\\metrics\\_classification.py:1565: UndefinedMetricWarning: Precision is ill-defined and being set to 0.0 in labels with no predicted samples. Use `zero_division` parameter to control this behavior.\n",
      "  _warn_prf(average, modifier, f\"{metric.capitalize()} is\", len(result))\n"
     ]
    }
   ],
   "source": [
    "# 3. Train the model\n",
    "trained_weights, trained_biases = train(\n",
    "    X_train, X_val, y_train, y_val,\n",
    "    epochs=100,\n",
    "    learning_rate=0.001,\n",
    "    class_weights=class_weights\n",
    ")\n",
    "\n",
    "# 4. Evaluate\n",
    "metrics = evaluate_model(X_val, y_val, trained_weights, trained_biases)\n",
    "print(\"Classification Report:\\n\", metrics['classification_report'])\n",
    "print(\"F1 Score:\", metrics['f1_score'])\n",
    "print(\"ROC AUC:\", metrics['roc_auc'])\n",
    "print(\"Confusion Matrix:\\n\", metrics['confusion_matrix'])"
   ]
  },
  {
   "cell_type": "markdown",
   "id": "557c1b8c",
   "metadata": {},
   "source": [
    "#### Part 2: PyTorch Implementation"
   ]
  },
  {
   "cell_type": "code",
   "execution_count": 51,
   "id": "574064a3",
   "metadata": {},
   "outputs": [],
   "source": [
    "import torch\n",
    "import torch.nn as nn\n",
    "import torch.optim as optim\n",
    "\n",
    "class ANN_model(nn.Module):\n",
    "\n",
    "  def __init__(self, input_size):\n",
    "        super().__init__()\n",
    "        self.net = nn.Sequential(\n",
    "            \n",
    "            nn.Linear(input_size, 128),\n",
    "            nn.ReLU(),\n",
    "            \n",
    "            nn.Linear(128, 64),\n",
    "            nn.ReLU(),\n",
    "\n",
    "            nn.Linear(64,1),\n",
    "            nn.Sigmoid()\n",
    "        )\n",
    "    \n",
    "  def forward(self, x):\n",
    "      return self.net(x)\n"
   ]
  },
  {
   "cell_type": "code",
   "execution_count": 52,
   "id": "6b44f31b",
   "metadata": {},
   "outputs": [],
   "source": [
    "input_shape=X_train.shape[1]\n",
    "model=ANN_model(input_shape)\n",
    "optimizer=optim.Adam(model.parameters(),lr=0.001)\n",
    "\n",
    "from sklearn.utils.class_weight import compute_class_weight\n",
    "weights=compute_class_weight('balanced',classes=np.unique(y_train),y=y_train)\n",
    "class_weights=torch.tensor(weights,dtype=torch.float).to('cpu')\n",
    "\n",
    "sample_weights=class_weights[y_train.values].view(-1,1)\n",
    "\n",
    "criterion=nn.BCELoss(weight=sample_weights)"
   ]
  },
  {
   "cell_type": "code",
   "execution_count": 53,
   "id": "4f9c7d14",
   "metadata": {},
   "outputs": [
    {
     "name": "stdout",
     "output_type": "stream",
     "text": [
      "epoch is 0 and loss is 0.6963840126991272\n",
      "epoch is 10 and loss is 0.6800115704536438\n",
      "epoch is 20 and loss is 0.6782913208007812\n",
      "epoch is 30 and loss is 0.6769539713859558\n",
      "epoch is 40 and loss is 0.6763594746589661\n",
      "epoch is 50 and loss is 0.6758404970169067\n",
      "epoch is 60 and loss is 0.6754416823387146\n",
      "epoch is 70 and loss is 0.6751085519790649\n",
      "epoch is 80 and loss is 0.6748077273368835\n",
      "epoch is 90 and loss is 0.6745315194129944\n"
     ]
    }
   ],
   "source": [
    "num_epochs =100\n",
    "loss_his=[]\n",
    "for epoch in range(num_epochs):\n",
    "\n",
    "    model.train()\n",
    "    inputs = torch.from_numpy(X_train).float()\n",
    "    labels = torch.from_numpy(y_train.values).float().view(-1, 1)\n",
    "\n",
    "    outputs = model(inputs)\n",
    "    loss = criterion(outputs, labels)\n",
    "\n",
    "    optimizer.zero_grad()\n",
    "    loss.backward()\n",
    "    optimizer.step()\n",
    "    loss_his.append(loss)\n",
    "    if epoch%10==0:\n",
    "        print(f\"epoch is {epoch} and loss is {loss.item()}\")"
   ]
  },
  {
   "cell_type": "code",
   "execution_count": 55,
   "id": "93b58e7f",
   "metadata": {},
   "outputs": [
    {
     "name": "stdout",
     "output_type": "stream",
     "text": [
      "classification report               precision    recall  f1-score   support\n",
      "\n",
      "           0       0.84      0.69      0.76     17642\n",
      "           1       0.28      0.48      0.35      4464\n",
      "\n",
      "    accuracy                           0.65     22106\n",
      "   macro avg       0.56      0.58      0.55     22106\n",
      "weighted avg       0.73      0.65      0.67     22106\n",
      "\n",
      "f1 Score 0.3524163568773234\n",
      "ROC AUC Score 0.5828065402942392\n",
      "Confusion Matrix\n",
      " [[12134  5508]\n",
      " [ 2331  2133]]\n"
     ]
    }
   ],
   "source": [
    "from sklearn.metrics import classification_report, f1_score, roc_auc_score\n",
    "model.eval()\n",
    "with torch.no_grad():\n",
    "    inputs=torch.from_numpy(X_val).float()\n",
    "    outputs=model(inputs)\n",
    "    y_pred_prob=outputs.numpy()\n",
    "    y_pred=(y_pred_prob>0.5)\n",
    "\n",
    "report=classification_report(y_val,y_pred)\n",
    "f1score=f1_score(y_val,y_pred)\n",
    "roc=roc_auc_score(y_val,y_pred)\n",
    "matrix=confusion_matrix(y_val,y_pred)\n",
    "print(\"classification report\",report)\n",
    "print(\"f1 Score\",f1score)\n",
    "print(\"ROC AUC Score\",roc)\n",
    "print(\"Confusion Matrix\\n\",matrix)"
   ]
  },
  {
   "cell_type": "markdown",
   "id": "83ed4aee",
   "metadata": {},
   "source": [
    "#### Adding useful features"
   ]
  },
  {
   "cell_type": "code",
   "execution_count": null,
   "id": "f6b47645",
   "metadata": {},
   "outputs": [],
   "source": [
    "from category_encoders import TargetEncoder\n",
    "\n",
    " \n",
    "df = pd.read_csv(\"KaggleV2-May-2016.csv\")\n",
    "\n",
    "df['ScheduledDay'] = pd.to_datetime(df['ScheduledDay'])\n",
    "df['AppointmentDay'] = pd.to_datetime(df['AppointmentDay'])\n",
    "\n",
    "df['days_between'] = (df['AppointmentDay'] - df['ScheduledDay']).dt.days\n",
    "df['days_between'] = np.where(df['days_between'] < 0, 0, df['days_between'])\n",
    "\n",
    "df['waiting_category'] = pd.cut(df['days_between'],\n",
    "    bins=[-1, 0, 1, 3, 7, 14, 30, 1000],\n",
    "    labels=['same_day', '1_day', '2-3_days', '4-7_days', '8-14_days', '15-30_days', '30+_days'])\n",
    "\n",
    "df['is_weekend'] = (df['AppointmentDay'].dt.dayofweek >= 5).astype(int)\n",
    "df['month'] = df['AppointmentDay'].dt.month\n",
    "df['hour_of_day'] = df['ScheduledDay'].dt.hour\n",
    "df['appointment_dayofweek'] = df['AppointmentDay'].dt.dayofweek\n",
    "\n",
    "patient_history = df.groupby('PatientId').agg(\n",
    "    total_appointments=('AppointmentID', 'count'),\n",
    "    prev_no_shows=('No-show', lambda x: sum(x == 'Yes'))\n",
    ")\n",
    "df = df.merge(patient_history, on='PatientId', how='left')\n",
    "df['no_show_rate'] = df['prev_no_shows'] / df['total_appointments']\n",
    "df = df.sort_values(['PatientId', 'AppointmentDay'])\n",
    "df['days_since_last'] = df.groupby('PatientId')['AppointmentDay'].diff().dt.days\n",
    "df['days_since_last'] = df['days_since_last'].fillna(0)\n",
    "\n",
    "conditions = ['Hipertension', 'Diabetes', 'Alcoholism', 'Handcap']\n",
    "df['health_risk_score'] = df[conditions].sum(axis=1)\n",
    "df['senior_with_condition'] = ((df['Age'] >= 60) & (df[conditions].sum(axis=1) > 0)).astype(int)\n",
    "\n",
    "df['last_minute'] = (df['days_between'] <= 1).astype(int)\n",
    "df['appt_freq'] = df.groupby('PatientId')['AppointmentDay'].transform('count')\n",
    "df['prev_same_day'] = df.groupby(['PatientId', df['AppointmentDay'].dt.date])['AppointmentID'].transform('count') - 1\n",
    "\n",
    "df['month_sin'] = np.sin(2 * np.pi * df['month']/12)\n",
    "df['month_cos'] = np.cos(2 * np.pi * df['month']/12)\n",
    "\n",
    "bins = [0, 12, 19, 30, 50, 70, 120]\n",
    "labels = ['child', 'teen', 'young_adult', 'adult', 'senior', 'elderly']\n",
    "df['age_group'] = pd.cut(df['Age'], bins=bins, labels=labels)\n",
    "\n",
    "le = LabelEncoder()\n",
    "df['Gender'] = le.fit_transform(df['Gender'])\n",
    "df['age_group']=le.fit_transform(df['age_group'])\n",
    "df['No-show']=le.fit_transform(df['No-show'])\n",
    "\n",
    "encoder = TargetEncoder(cols=['Neighbourhood', 'waiting_category'])\n",
    "df[['Neighbourhood', 'waiting_category']] = encoder.fit_transform(df[['Neighbourhood', 'waiting_category']],df['No-show'])\n",
    "\n",
    "df=df.drop(columns=['ScheduledDay', 'AppointmentDay'])"
   ]
  },
  {
   "cell_type": "code",
   "execution_count": 71,
   "id": "bf0a4dd7",
   "metadata": {},
   "outputs": [],
   "source": [
    "X=df.drop(columns=['No-show'])\n",
    "y=df['No-show']\n",
    "\n",
    "from sklearn.preprocessing import StandardScaler\n",
    "scalar=StandardScaler()\n",
    "X=scalar.fit_transform(X)\n",
    "\n",
    "\n",
    "X_train, X_val, y_train, y_val = train_test_split(X, y, test_size=0.2, random_state=42, stratify=y)\n"
   ]
  },
  {
   "cell_type": "code",
   "execution_count": 72,
   "id": "413cc70a",
   "metadata": {},
   "outputs": [
    {
     "data": {
      "text/plain": [
       "((88421, 29), (22106, 29), (88421,), (22106,))"
      ]
     },
     "execution_count": 72,
     "metadata": {},
     "output_type": "execute_result"
    }
   ],
   "source": [
    "X_train.shape,X_val.shape,y_train.shape,y_val.shape"
   ]
  },
  {
   "cell_type": "code",
   "execution_count": 81,
   "id": "5b4875a1",
   "metadata": {},
   "outputs": [
    {
     "name": "stdout",
     "output_type": "stream",
     "text": [
      "Epoch 0: Train Loss = 0.5759, Val Loss = 0.5759\n",
      "Epoch 10: Train Loss = 0.4079, Val Loss = 0.4079\n",
      "Epoch 20: Train Loss = 0.3214, Val Loss = 0.3214\n",
      "Epoch 30: Train Loss = 0.2807, Val Loss = 0.2807\n",
      "Epoch 40: Train Loss = 0.2628, Val Loss = 0.2628\n",
      "Epoch 50: Train Loss = 0.2552, Val Loss = 0.2552\n",
      "Epoch 60: Train Loss = 0.2521, Val Loss = 0.2521\n",
      "Epoch 70: Train Loss = 0.2508, Val Loss = 0.2508\n",
      "Training complete. Best Val Loss: 0.2505\n",
      "Classification Report:\n",
      "               precision    recall  f1-score   support\n",
      "\n",
      "           0       0.80      1.00      0.89     17642\n",
      "           1       0.00      0.00      0.00      4464\n",
      "\n",
      "    accuracy                           0.80     22106\n",
      "   macro avg       0.40      0.50      0.44     22106\n",
      "weighted avg       0.64      0.80      0.71     22106\n",
      "\n",
      "F1 Score: 0.0\n",
      "ROC AUC: 0.6515866238883342\n",
      "Confusion Matrix:\n",
      " [[17642     0]\n",
      " [ 4464     0]]\n"
     ]
    },
    {
     "name": "stderr",
     "output_type": "stream",
     "text": [
      "c:\\Users\\gokul\\anaconda3\\envs\\hello\\Lib\\site-packages\\sklearn\\metrics\\_classification.py:1565: UndefinedMetricWarning: Precision is ill-defined and being set to 0.0 in labels with no predicted samples. Use `zero_division` parameter to control this behavior.\n",
      "  _warn_prf(average, modifier, f\"{metric.capitalize()} is\", len(result))\n",
      "c:\\Users\\gokul\\anaconda3\\envs\\hello\\Lib\\site-packages\\sklearn\\metrics\\_classification.py:1565: UndefinedMetricWarning: Precision is ill-defined and being set to 0.0 in labels with no predicted samples. Use `zero_division` parameter to control this behavior.\n",
      "  _warn_prf(average, modifier, f\"{metric.capitalize()} is\", len(result))\n",
      "c:\\Users\\gokul\\anaconda3\\envs\\hello\\Lib\\site-packages\\sklearn\\metrics\\_classification.py:1565: UndefinedMetricWarning: Precision is ill-defined and being set to 0.0 in labels with no predicted samples. Use `zero_division` parameter to control this behavior.\n",
      "  _warn_prf(average, modifier, f\"{metric.capitalize()} is\", len(result))\n"
     ]
    }
   ],
   "source": [
    "from sklearn.utils.class_weight import compute_class_weight\n",
    "\n",
    "classes = np.unique(y_train)\n",
    "weights = compute_class_weight('balanced', classes=classes, y=y_train)\n",
    "class_weights = {0: weights[0], 1: weights[1]}\n",
    "\n",
    "trained_weights, trained_biases = train(\n",
    "    X_train, X_val, y_train, y_val,\n",
    "    epochs=75,\n",
    "    learning_rate=0.001,\n",
    "    class_weights=class_weights\n",
    ")\n",
    "\n",
    "# 4. Evaluate\n",
    "metrics = evaluate_model(X_val, y_val, trained_weights, trained_biases)\n",
    "print(\"Classification Report:\\n\", metrics['classification_report'])\n",
    "print(\"F1 Score:\", metrics['f1_score'])\n",
    "print(\"ROC AUC:\", metrics['roc_auc'])\n",
    "print(\"Confusion Matrix:\\n\", metrics['confusion_matrix'])"
   ]
  },
  {
   "cell_type": "code",
   "execution_count": 73,
   "id": "971b7055",
   "metadata": {},
   "outputs": [],
   "source": [
    "import torch\n",
    "import torch.nn as nn\n",
    "import torch.optim as optim\n",
    "\n",
    "class ANN_model(nn.Module):\n",
    "\n",
    "  def __init__(self, input_size):\n",
    "        super().__init__()\n",
    "        self.net = nn.Sequential(\n",
    "            \n",
    "            nn.Linear(input_size, 128),\n",
    "            nn.ReLU(),\n",
    "            \n",
    "            nn.Linear(128, 64),\n",
    "            nn.ReLU(),\n",
    "\n",
    "            nn.Linear(64,1),\n",
    "            nn.Sigmoid()\n",
    "        )\n",
    "    \n",
    "  def forward(self, x):\n",
    "      return self.net(x)\n"
   ]
  },
  {
   "cell_type": "code",
   "execution_count": 75,
   "id": "dd26969e",
   "metadata": {},
   "outputs": [],
   "source": [
    "input_shape=X_train.shape[1]\n",
    "model=ANN_model(input_shape)\n",
    "optimizer=optim.Adam(model.parameters(),lr=0.001)\n",
    "\n",
    "from sklearn.utils.class_weight import compute_class_weight\n",
    "weights=compute_class_weight('balanced',classes=np.unique(y_train),y=y_train)\n",
    "class_weights=torch.tensor(weights,dtype=torch.float).to('cpu')\n",
    "\n",
    "sample_weights=class_weights[y_train.values].view(-1,1)\n",
    "\n",
    "criterion=nn.BCELoss(weight=sample_weights)"
   ]
  },
  {
   "cell_type": "code",
   "execution_count": 76,
   "id": "99d7be6b",
   "metadata": {},
   "outputs": [
    {
     "name": "stdout",
     "output_type": "stream",
     "text": [
      "epoch is 0 and loss is 0.6878001689910889\n",
      "epoch is 10 and loss is 0.5803468227386475\n",
      "epoch is 20 and loss is 0.44469153881073\n",
      "epoch is 30 and loss is 0.32810503244400024\n",
      "epoch is 40 and loss is 0.2617921233177185\n",
      "epoch is 50 and loss is 0.23872411251068115\n",
      "epoch is 60 and loss is 0.23064060509204865\n",
      "epoch is 70 and loss is 0.22492529451847076\n"
     ]
    }
   ],
   "source": [
    "num_epochs =75\n",
    "loss_his=[]\n",
    "for epoch in range(num_epochs):\n",
    "\n",
    "    model.train()\n",
    "    inputs = torch.from_numpy(X_train).float()\n",
    "    labels = torch.from_numpy(y_train.values).float().view(-1, 1)\n",
    "\n",
    "    outputs = model(inputs)\n",
    "    loss = criterion(outputs, labels)\n",
    "\n",
    "    optimizer.zero_grad()\n",
    "    loss.backward()\n",
    "    optimizer.step()\n",
    "    loss_his.append(loss)\n",
    "    if epoch%10==0:\n",
    "        print(f\"epoch is {epoch} and loss is {loss.item()}\")"
   ]
  },
  {
   "cell_type": "code",
   "execution_count": 77,
   "id": "34a29c0b",
   "metadata": {},
   "outputs": [
    {
     "name": "stdout",
     "output_type": "stream",
     "text": [
      "classification report               precision    recall  f1-score   support\n",
      "\n",
      "           0       0.98      0.88      0.92     17642\n",
      "           1       0.66      0.91      0.76      4464\n",
      "\n",
      "    accuracy                           0.89     22106\n",
      "   macro avg       0.82      0.90      0.84     22106\n",
      "weighted avg       0.91      0.89      0.89     22106\n",
      "\n",
      "f1 Score 0.7636022514071295\n",
      "ROC AUC Score 0.8956152361645943\n",
      "Confusion Matrix\n",
      " [[15516  2126]\n",
      " [  394  4070]]\n"
     ]
    }
   ],
   "source": [
    "from sklearn.metrics import classification_report, roc_auc_score, f1_score, confusion_matrix\n",
    "model.eval()\n",
    "with torch.no_grad():\n",
    "    inputs=torch.from_numpy(X_val).float()\n",
    "    outputs=model(inputs)\n",
    "    y_pred_prob=outputs.numpy()\n",
    "    y_pred=(y_pred_prob>0.5)\n",
    "\n",
    "report=classification_report(y_val,y_pred)\n",
    "f1score=f1_score(y_val,y_pred)\n",
    "roc=roc_auc_score(y_val,y_pred)\n",
    "matrix=confusion_matrix(y_val,y_pred)\n",
    "print(\"classification report\",report)\n",
    "print(\"f1 Score\",f1score)\n",
    "print(\"ROC AUC Score\",roc)\n",
    "print(\"Confusion Matrix\\n\",matrix)"
   ]
  },
  {
   "cell_type": "code",
   "execution_count": null,
   "id": "df398ada",
   "metadata": {},
   "outputs": [
    {
     "data": {
      "image/png": "[encoded data removed]",
      "text/plain": [
       "<Figure size 640x480 with 1 Axes>"
      ]
     },
     "metadata": {},
     "output_type": "display_data"
    }
   ],
   "source": [
    "def plot_loss_curve(loss):\n",
    "  plt.plot([l.detach().numpy() for l in loss])\n",
    "\n",
    "plot_loss_curve(loss_his)"
   ]
  }
 ],
 "metadata": {
  "kernelspec": {
   "display_name": "hello",
   "language": "python",
   "name": "python3"
  },
  "language_info": {
   "codemirror_mode": {
    "name": "ipython",
    "version": 3
   },
   "file_extension": ".py",
   "mimetype": "text/x-python",
   "name": "python",
   "nbconvert_exporter": "python",
   "pygments_lexer": "ipython3",
   "version": "3.12.0"
  }
 },
 "nbformat": 4,
 "nbformat_minor": 5
}
